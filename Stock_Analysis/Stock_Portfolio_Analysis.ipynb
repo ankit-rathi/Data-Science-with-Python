{
  "metadata": {
    "kernelspec": {
      "language": "python",
      "display_name": "Python 3",
      "name": "python3"
    },
    "language_info": {
      "pygments_lexer": "ipython3",
      "nbconvert_exporter": "python",
      "version": "3.6.4",
      "file_extension": ".py",
      "codemirror_mode": {
        "name": "ipython",
        "version": 3
      },
      "name": "python",
      "mimetype": "text/x-python"
    },
    "colab": {
      "provenance": [],
      "include_colab_link": true
    }
  },
  "nbformat_minor": 0,
  "nbformat": 4,
  "cells": [
    {
      "cell_type": "markdown",
      "metadata": {
        "id": "view-in-github",
        "colab_type": "text"
      },
      "source": [
        "<a href=\"https://colab.research.google.com/github/ankit-rathi/Data-Science-with-Python/blob/master/Stock_Analysis/Stock_Portfolio_Analysis.ipynb\" target=\"_parent\"><img src=\"https://colab.research.google.com/assets/colab-badge.svg\" alt=\"Open In Colab\"/></a>"
      ]
    },
    {
      "cell_type": "code",
      "source": [
        "# install libraries\n",
        "!pip install yfinance\n",
        "!pip install pandas-ta\n",
        "#!pip install talib-binary"
      ],
      "metadata": {
        "_uuid": "8f2839f25d086af736a60e9eeb907d3b93b6e0e5",
        "_cell_guid": "b1076dfc-b9ad-4769-8c92-a6c4dae69d19",
        "execution": {
          "iopub.status.busy": "2023-04-30T03:40:20.416153Z",
          "iopub.execute_input": "2023-04-30T03:40:20.416574Z",
          "iopub.status.idle": "2023-04-30T03:40:48.440910Z",
          "shell.execute_reply.started": "2023-04-30T03:40:20.416533Z",
          "shell.execute_reply": "2023-04-30T03:40:48.439390Z"
        },
        "trusted": true,
        "id": "XjKkqFB-8rGB"
      },
      "execution_count": null,
      "outputs": []
    },
    {
      "cell_type": "code",
      "source": [
        "# import libraries \n",
        "\n",
        "%matplotlib inline\n",
        "import numpy as np \n",
        "import pandas as pd\n",
        "import matplotlib.pyplot as plt\n",
        "import datetime\n",
        "from tabulate import tabulate\n",
        "import warnings\n",
        "warnings.filterwarnings('ignore')\n",
        "import pandas_datareader.data as web\n",
        "import yfinance as yfin\n",
        "#import talib \n",
        "yfin.pdr_override()\n",
        "import pandas_ta as ta"
      ],
      "metadata": {
        "execution": {
          "iopub.status.busy": "2023-04-30T03:40:48.443584Z",
          "iopub.execute_input": "2023-04-30T03:40:48.444505Z",
          "iopub.status.idle": "2023-04-30T03:40:49.085540Z",
          "shell.execute_reply.started": "2023-04-30T03:40:48.444455Z",
          "shell.execute_reply": "2023-04-30T03:40:49.084211Z"
        },
        "trusted": true,
        "id": "Q07HZs798rGD"
      },
      "execution_count": null,
      "outputs": []
    },
    {
      "cell_type": "code",
      "source": [
        "# set start and end date\n",
        "import datetime\n",
        "start_date = (datetime.date.today() + datetime.timedelta(days=-3*365)).strftime('%Y-%m-%d')\n",
        "end_date = (datetime.date.today() + datetime.timedelta(days=1)).strftime('%Y-%m-%d')"
      ],
      "metadata": {
        "execution": {
          "iopub.status.busy": "2023-04-30T03:40:49.087262Z",
          "iopub.execute_input": "2023-04-30T03:40:49.091322Z",
          "iopub.status.idle": "2023-04-30T03:40:49.097900Z",
          "shell.execute_reply.started": "2023-04-30T03:40:49.091260Z",
          "shell.execute_reply": "2023-04-30T03:40:49.096727Z"
        },
        "trusted": true,
        "id": "QcN2_NYb8rGD"
      },
      "execution_count": null,
      "outputs": []
    },
    {
      "cell_type": "code",
      "source": [
        "# fetch nifty200 scrips\n",
        "\n",
        "import pandas as pd\n",
        "import numpy as np\n",
        "\n",
        "mypf = pd.read_csv('https://raw.githubusercontent.com/ankit-rathi/Data-Science-with-Python/master/Stock_Analysis/data/Nifty100Scrips.csv')\n",
        "\n",
        "mypf = mypf[mypf['InPortfolio'] == 1]\n",
        "\n",
        "stock_n100 = mypf['Symbol'].unique()\n",
        "\n",
        "exclude = ['CADILAHC','MMTC']\n",
        "\n",
        "stock_n100 = mypf[~mypf['Symbol'].isin(exclude) ]['Symbol'].unique()\n",
        "\n",
        "stock_ids = stock_n100\n",
        "\n",
        "#mypf = mypf[mypf.Forecast.notnull()]\n",
        "#stock_ids = mypf['Symbol'].unique()\n",
        "\n",
        "stock_ids.sort()\n",
        "stock_ids"
      ],
      "metadata": {
        "execution": {
          "iopub.status.busy": "2023-04-30T03:40:49.101909Z",
          "iopub.execute_input": "2023-04-30T03:40:49.102829Z",
          "iopub.status.idle": "2023-04-30T03:40:49.334804Z",
          "shell.execute_reply.started": "2023-04-30T03:40:49.102776Z",
          "shell.execute_reply": "2023-04-30T03:40:49.333401Z"
        },
        "trusted": true,
        "id": "LVuogzLr8rGD"
      },
      "execution_count": null,
      "outputs": []
    },
    {
      "cell_type": "code",
      "source": [
        "# function to compute stock attributes\n",
        "\n",
        "def stock_prec_dev(stock_symbol):\n",
        "    #stock_symbol = 'ULTRACEMCO.NS'\n",
        "    short_window = 20 \n",
        "    mid_window = 50\n",
        "    long_window = 150\n",
        "    moving_avg = 'SMA'\n",
        "    \n",
        "    # import the closing price data of the stock for the aforementioned period of time in Pandas dataframe\n",
        "    start = datetime.datetime(*map(int, start_date.split('-')))\n",
        "    end = datetime.datetime(*map(int, end_date.split('-'))) \n",
        "    stock_df = yfin.Ticker(stock_symbol).history(period='3y')[map(str.title, ['open', 'close', 'low', 'high', 'volume'])]\n",
        "    stock_df = stock_df[(stock_df.index <= end_date) & (stock_df.index >= start_date)]\n",
        "    #stock_df = pd.DataFrame(stock_df) # convert Series object to dataframe \n",
        "    #stock_df.columns = {'Close Price'} # assign new colun name\n",
        "    stock_df.dropna(axis = 0, inplace = True) # remove any null rows \n",
        "\n",
        "    # column names for long and short moving average columns\n",
        "    short_window_col = str(short_window) + '_' + moving_avg\n",
        "    mid_window_col = str(mid_window) + '_' + moving_avg\n",
        "    long_window_col = str(long_window) + '_' + moving_avg  \n",
        "\n",
        "    #print(stock_df)\n",
        "\n",
        "    # Create short exponential moving average column\n",
        "    stock_df[short_window_col] = round(stock_df['Close'].rolling(window = short_window, min_periods = 1).mean(),0)\n",
        "\n",
        "    stock_df[mid_window_col] = round(stock_df['Close'].rolling(window = mid_window, min_periods = 1).mean(),0)     \n",
        "\n",
        "    #stock_df['RSI'] = round(talib.RSI(stock_df['Close Price'], timeperiod=14),0)\n",
        "\n",
        "    # Create a long exponential moving average column\n",
        "    stock_df[long_window_col] = round(stock_df['Close'].rolling(window = long_window, min_periods = 1).mean(),0)\n",
        "    stock_df['Stock'] = stock_symbol\n",
        "    \n",
        "    stock_df['Close'] = round(stock_df['Close'],0)     \n",
        "    stock_df['Max'] = round(max(stock_df['Close']),0)\n",
        "    stock_df.drop(['Open', 'Low', 'High', 'Volume'\n",
        "                   ], axis=1, inplace=True)   \n",
        "    \n",
        "    return stock_df\n",
        "\n",
        "df_prec_dev = pd.DataFrame()\n",
        "\n",
        "#tmp = stock_prec_dev('ULTRACEMCO.NS')\n",
        "#df_perform = df_perform.append(tmp)\n",
        "for stock_id in stock_ids:\n",
        "    #print(stock_id)\n",
        "    #current_pe = get_current_pe(stock_id)\n",
        "    stock_id = stock_id.upper() + '.NS'    \n",
        "    tmp = stock_prec_dev(stock_id)\n",
        "    tmp = tmp.reset_index()\n",
        "    tmp = tmp.tail(1)\n",
        "    tmp['Avg_Cost'] = mypf[(mypf['Symbol']+'.NS') == stock_id.upper()]['AvgCost'].values[0]\n",
        "    tmp['Shares'] = mypf[(mypf['Symbol']+'.NS') == stock_id.upper()]['Shares'].values[0]   \n",
        "    #tmp['Curr_PE'] = current_pe\n",
        "    df_prec_dev = df_prec_dev.append(tmp)"
      ],
      "metadata": {
        "execution": {
          "iopub.status.busy": "2023-04-30T03:40:49.336428Z",
          "iopub.execute_input": "2023-04-30T03:40:49.337654Z",
          "iopub.status.idle": "2023-04-30T03:40:51.418879Z",
          "shell.execute_reply.started": "2023-04-30T03:40:49.337585Z",
          "shell.execute_reply": "2023-04-30T03:40:51.417379Z"
        },
        "trusted": true,
        "id": "_a2RG-V_8rGD"
      },
      "execution_count": null,
      "outputs": []
    },
    {
      "cell_type": "code",
      "source": [
        "df_prec_dev.reset_index(drop=True, inplace=True)\n",
        "df_prec_dev.drop(['Date'], axis=1, inplace=True)"
      ],
      "metadata": {
        "execution": {
          "iopub.status.busy": "2023-04-30T03:40:51.420593Z",
          "iopub.execute_input": "2023-04-30T03:40:51.421472Z",
          "iopub.status.idle": "2023-04-30T03:40:51.430457Z",
          "shell.execute_reply.started": "2023-04-30T03:40:51.421417Z",
          "shell.execute_reply": "2023-04-30T03:40:51.429185Z"
        },
        "trusted": true,
        "id": "_5BJUycN8rGE"
      },
      "execution_count": null,
      "outputs": []
    },
    {
      "cell_type": "code",
      "source": [
        "# portfolio stocks\n",
        "\n",
        "tmp_df = df_prec_dev[df_prec_dev['Stock'].isin(mypf[mypf['InPortfolio'] == 1].Stock.values)]\n",
        "print('qualified stocks: '+str(tmp_df.shape[0]))\n",
        "tmp_df['Investment'] = tmp_df['Avg_Cost'] * tmp_df['Shares']\n",
        "tmp_df['Current'] = tmp_df['Close'] * tmp_df['Shares']\n",
        "tmp_df['Estimated'] = tmp_df['Max'] * tmp_df['Shares']\n",
        "tmp_df['Current P/L%'] = round((tmp_df['Current'] - tmp_df['Investment'])*100/tmp_df['Investment'],2)\n",
        "tmp_df['Estimated P/L%'] = round((tmp_df['Estimated'] - tmp_df['Investment'])*100/tmp_df['Investment'],2)\n",
        "tmp_df.sort_values(by = 'Current P/L%', ascending=False)"
      ],
      "metadata": {
        "execution": {
          "iopub.status.busy": "2023-04-30T03:40:51.431909Z",
          "iopub.execute_input": "2023-04-30T03:40:51.432304Z",
          "iopub.status.idle": "2023-04-30T03:40:51.490682Z",
          "shell.execute_reply.started": "2023-04-30T03:40:51.432266Z",
          "shell.execute_reply": "2023-04-30T03:40:51.489504Z"
        },
        "trusted": true,
        "id": "HSh48sb28rGE"
      },
      "execution_count": null,
      "outputs": []
    },
    {
      "cell_type": "code",
      "source": [
        "tmp_df.sort_values(by = 'Estimated P/L%', ascending=False)"
      ],
      "metadata": {
        "execution": {
          "iopub.status.busy": "2023-04-30T03:40:51.492279Z",
          "iopub.execute_input": "2023-04-30T03:40:51.493021Z",
          "iopub.status.idle": "2023-04-30T03:40:51.527072Z",
          "shell.execute_reply.started": "2023-04-30T03:40:51.492982Z",
          "shell.execute_reply": "2023-04-30T03:40:51.525970Z"
        },
        "trusted": true,
        "id": "LhXY2lzj8rGE"
      },
      "execution_count": null,
      "outputs": []
    },
    {
      "cell_type": "code",
      "source": [
        "investment = round(sum(tmp_df['Avg_Cost']*tmp_df['Shares']),0)\n",
        "current = round(sum(tmp_df['Close']*tmp_df['Shares']),0)\n",
        "curr_pnl_amount = current-investment\n",
        "curr_pnl_percentage = round((current-investment)*100/investment,2)\n",
        "\n",
        "estimate = round(sum(tmp_df['Max']*tmp_df['Shares']),0)\n",
        "est_pnl_amount = estimate-investment\n",
        "est_pnl_percentage = round((estimate-investment)*100/investment,2)\n",
        "\n",
        "print('Investment: ', investment)\n",
        "print('Current: ', current)\n",
        "print('Current Profit/Loss: ', curr_pnl_amount)\n",
        "print('Current Profit/Loss %: ', curr_pnl_percentage)\n",
        "print('Estimate: ', estimate)\n",
        "print('Estimate Profit/Loss: ', est_pnl_amount)\n",
        "print('Estimate Profit/Loss %: ', est_pnl_percentage)"
      ],
      "metadata": {
        "execution": {
          "iopub.status.busy": "2023-04-30T03:40:51.528436Z",
          "iopub.execute_input": "2023-04-30T03:40:51.528820Z",
          "iopub.status.idle": "2023-04-30T03:40:51.539659Z",
          "shell.execute_reply.started": "2023-04-30T03:40:51.528782Z",
          "shell.execute_reply": "2023-04-30T03:40:51.538352Z"
        },
        "trusted": true,
        "id": "ldp9DHfJ8rGE"
      },
      "execution_count": null,
      "outputs": []
    },
    {
      "cell_type": "code",
      "source": [
        "tmp_df['Weightage%'] = round(tmp_df['Investment']*100/investment,2)\n",
        "tmp_df.sort_values(by = 'Weightage%', ascending=False)"
      ],
      "metadata": {
        "execution": {
          "iopub.status.busy": "2023-04-30T03:40:51.543013Z",
          "iopub.execute_input": "2023-04-30T03:40:51.543421Z",
          "iopub.status.idle": "2023-04-30T03:40:51.581398Z",
          "shell.execute_reply.started": "2023-04-30T03:40:51.543383Z",
          "shell.execute_reply": "2023-04-30T03:40:51.580051Z"
        },
        "trusted": true,
        "id": "ub3GYDsj8rGF"
      },
      "execution_count": null,
      "outputs": []
    },
    {
      "cell_type": "code",
      "source": [
        "stock_ids = tmp_df['Stock'].values\n",
        "for stock_id in stock_ids:\n",
        "    print(stock_id)\n",
        "    \n",
        "    df = yfin.Ticker(stock_id).history(period='18mo', interval = \"1wk\")[map(str.title, ['open', 'close', 'low', 'high', 'volume'])]\n",
        "    print(round(df['Close'].mean()))\n",
        "    print(round(df.tail(1)['Close'].values[0]))"
      ],
      "metadata": {
        "execution": {
          "iopub.status.busy": "2023-04-30T03:47:46.558602Z",
          "iopub.execute_input": "2023-04-30T03:47:46.559021Z",
          "iopub.status.idle": "2023-04-30T03:47:48.081829Z",
          "shell.execute_reply.started": "2023-04-30T03:47:46.558985Z",
          "shell.execute_reply": "2023-04-30T03:47:48.080654Z"
        },
        "trusted": true,
        "id": "bjx6-m_n8rGF"
      },
      "execution_count": null,
      "outputs": []
    }
  ]
}