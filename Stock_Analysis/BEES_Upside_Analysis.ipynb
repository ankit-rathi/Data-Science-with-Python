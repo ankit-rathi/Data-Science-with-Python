{
  "cells": [
    {
      "cell_type": "markdown",
      "metadata": {
        "id": "view-in-github",
        "colab_type": "text"
      },
      "source": [
        "<a href=\"https://colab.research.google.com/github/ankit-rathi/Data-Science-with-Python/blob/master/Stock_Analysis/BEES_Upside_Analysis.ipynb\" target=\"_parent\"><img src=\"https://colab.research.google.com/assets/colab-badge.svg\" alt=\"Open In Colab\"/></a>"
      ]
    },
    {
      "cell_type": "code",
      "source": [
        "# install libraries\n",
        "!pip install yfinance\n",
        "!pip install pandas-ta\n",
        "#!pip install talib-binary"
      ],
      "metadata": {
        "id": "tfzjusaZRLsM",
        "outputId": "ccfd0641-cbaa-4c0e-e3f0-188dbcffcd2d",
        "colab": {
          "base_uri": "https://localhost:8080/"
        }
      },
      "id": "tfzjusaZRLsM",
      "execution_count": 41,
      "outputs": [
        {
          "output_type": "stream",
          "name": "stdout",
          "text": [
            "Looking in indexes: https://pypi.org/simple, https://us-python.pkg.dev/colab-wheels/public/simple/\n",
            "Requirement already satisfied: yfinance in /usr/local/lib/python3.9/dist-packages (0.2.12)\n",
            "Requirement already satisfied: lxml>=4.9.1 in /usr/local/lib/python3.9/dist-packages (from yfinance) (4.9.2)\n",
            "Requirement already satisfied: pandas>=1.3.0 in /usr/local/lib/python3.9/dist-packages (from yfinance) (1.4.4)\n",
            "Requirement already satisfied: appdirs>=1.4.4 in /usr/local/lib/python3.9/dist-packages (from yfinance) (1.4.4)\n",
            "Requirement already satisfied: requests>=2.26 in /usr/local/lib/python3.9/dist-packages (from yfinance) (2.27.1)\n",
            "Requirement already satisfied: pytz>=2022.5 in /usr/local/lib/python3.9/dist-packages (from yfinance) (2022.7.1)\n",
            "Requirement already satisfied: beautifulsoup4>=4.11.1 in /usr/local/lib/python3.9/dist-packages (from yfinance) (4.11.2)\n",
            "Requirement already satisfied: cryptography>=3.3.2 in /usr/local/lib/python3.9/dist-packages (from yfinance) (39.0.2)\n",
            "Requirement already satisfied: multitasking>=0.0.7 in /usr/local/lib/python3.9/dist-packages (from yfinance) (0.0.11)\n",
            "Requirement already satisfied: numpy>=1.16.5 in /usr/local/lib/python3.9/dist-packages (from yfinance) (1.22.4)\n",
            "Requirement already satisfied: html5lib>=1.1 in /usr/local/lib/python3.9/dist-packages (from yfinance) (1.1)\n",
            "Requirement already satisfied: frozendict>=2.3.4 in /usr/local/lib/python3.9/dist-packages (from yfinance) (2.3.5)\n",
            "Requirement already satisfied: soupsieve>1.2 in /usr/local/lib/python3.9/dist-packages (from beautifulsoup4>=4.11.1->yfinance) (2.4)\n",
            "Requirement already satisfied: cffi>=1.12 in /usr/local/lib/python3.9/dist-packages (from cryptography>=3.3.2->yfinance) (1.15.1)\n",
            "Requirement already satisfied: webencodings in /usr/local/lib/python3.9/dist-packages (from html5lib>=1.1->yfinance) (0.5.1)\n",
            "Requirement already satisfied: six>=1.9 in /usr/local/lib/python3.9/dist-packages (from html5lib>=1.1->yfinance) (1.15.0)\n",
            "Requirement already satisfied: python-dateutil>=2.8.1 in /usr/local/lib/python3.9/dist-packages (from pandas>=1.3.0->yfinance) (2.8.2)\n",
            "Requirement already satisfied: certifi>=2017.4.17 in /usr/local/lib/python3.9/dist-packages (from requests>=2.26->yfinance) (2022.12.7)\n",
            "Requirement already satisfied: idna<4,>=2.5 in /usr/local/lib/python3.9/dist-packages (from requests>=2.26->yfinance) (3.4)\n",
            "Requirement already satisfied: charset-normalizer~=2.0.0 in /usr/local/lib/python3.9/dist-packages (from requests>=2.26->yfinance) (2.0.12)\n",
            "Requirement already satisfied: urllib3<1.27,>=1.21.1 in /usr/local/lib/python3.9/dist-packages (from requests>=2.26->yfinance) (1.26.15)\n",
            "Requirement already satisfied: pycparser in /usr/local/lib/python3.9/dist-packages (from cffi>=1.12->cryptography>=3.3.2->yfinance) (2.21)\n",
            "Looking in indexes: https://pypi.org/simple, https://us-python.pkg.dev/colab-wheels/public/simple/\n",
            "Requirement already satisfied: pandas-ta in /usr/local/lib/python3.9/dist-packages (0.3.14b0)\n",
            "Requirement already satisfied: pandas in /usr/local/lib/python3.9/dist-packages (from pandas-ta) (1.4.4)\n",
            "Requirement already satisfied: numpy>=1.18.5 in /usr/local/lib/python3.9/dist-packages (from pandas->pandas-ta) (1.22.4)\n",
            "Requirement already satisfied: pytz>=2020.1 in /usr/local/lib/python3.9/dist-packages (from pandas->pandas-ta) (2022.7.1)\n",
            "Requirement already satisfied: python-dateutil>=2.8.1 in /usr/local/lib/python3.9/dist-packages (from pandas->pandas-ta) (2.8.2)\n",
            "Requirement already satisfied: six>=1.5 in /usr/local/lib/python3.9/dist-packages (from python-dateutil>=2.8.1->pandas->pandas-ta) (1.15.0)\n"
          ]
        }
      ]
    },
    {
      "cell_type": "code",
      "source": [
        "# set start and end date\n",
        "import datetime\n",
        "start_date = (datetime.date.today() + datetime.timedelta(days=-365)).strftime('%Y-%m-%d')\n",
        "end_date = (datetime.date.today() + datetime.timedelta(days=1)).strftime('%Y-%m-%d')"
      ],
      "metadata": {
        "id": "7R32vicp4fYt"
      },
      "id": "7R32vicp4fYt",
      "execution_count": 42,
      "outputs": []
    },
    {
      "cell_type": "code",
      "execution_count": 43,
      "id": "7e7c4f66",
      "metadata": {
        "id": "7e7c4f66",
        "colab": {
          "base_uri": "https://localhost:8080/"
        },
        "outputId": "e038001d-e9ad-4e30-f1fb-fe602fe06884"
      },
      "outputs": [
        {
          "output_type": "execute_result",
          "data": {
            "text/plain": [
              "array(['AUTOBEES', 'BANKBEES', 'CONSUMBEES', 'INFRABEES', 'ITBEES',\n",
              "       'JUNIORBEES', 'MID150BEES', 'NIFTYBEES', 'PHARMABEES'],\n",
              "      dtype=object)"
            ]
          },
          "metadata": {},
          "execution_count": 43
        }
      ],
      "source": [
        "# fetch nifty200 scrips\n",
        "\n",
        "import pandas as pd\n",
        "import numpy as np\n",
        "\n",
        "df_bees = pd.read_csv('https://raw.githubusercontent.com/ankit-rathi/Data-Science-with-Python/master/Stock_Analysis/data/BEES_Scrips.csv')\n",
        "\n",
        "bees_ids = df_bees['Symbol'].unique()\n",
        "\n",
        "bees_ids.sort()\n",
        "bees_ids"
      ]
    },
    {
      "cell_type": "code",
      "source": [
        "df_bees.columns"
      ],
      "metadata": {
        "id": "WbtXTa7dKWjE",
        "outputId": "ec18ed01-7887-420e-f592-970a6e28625a",
        "colab": {
          "base_uri": "https://localhost:8080/"
        }
      },
      "id": "WbtXTa7dKWjE",
      "execution_count": 44,
      "outputs": [
        {
          "output_type": "execute_result",
          "data": {
            "text/plain": [
              "Index(['Symbol', '52WLow', '52WHigh'], dtype='object')"
            ]
          },
          "metadata": {},
          "execution_count": 44
        }
      ]
    },
    {
      "cell_type": "code",
      "source": [
        "import yfinance as yfin\n",
        "import pandas as pd\n",
        "\n",
        "df_bees_stats = pd.DataFrame()\n",
        "\n",
        "for bees_id in bees_ids:\n",
        "\n",
        "  close_price = round(yfin.Ticker(bees_id+'.NS').history(period='2y')[map(str.title, ['open', 'close', 'low', 'high', 'volume'])].tail(1)['Close'].values[0],1)\n",
        "  low_52w = df_bees[(df_bees['Symbol']) == bees_id.upper()]['52WLow'].values[0]\n",
        "  high_52w = df_bees[(df_bees['Symbol']) == bees_id.upper()]['52WHigh'].values[0]\n",
        "\n",
        "  tmp = pd.DataFrame([bees_id, close_price, low_52w, high_52w]).T\n",
        "  df_bees_stats = df_bees_stats.append(tmp)\n",
        "\n",
        "df_bees_stats.columns = ['ETF', 'Close', '52WLow', '52WHigh']\n",
        "df_bees_stats['Premium%'] = (df_bees_stats['Close']-df_bees_stats['52WLow'])*100/(df_bees_stats['52WHigh']-df_bees_stats['52WLow']).astype(float)\n",
        "df_bees_stats['Discount%'] = (df_bees_stats['52WHigh']-df_bees_stats['Close'])*100/(df_bees_stats['52WHigh']-df_bees_stats['52WLow']).astype(float)\n",
        "df_bees_stats['Upside%52W'] = (df_bees_stats['52WHigh']-df_bees_stats['Close'])*100/(df_bees_stats['Close']).astype(float)\n",
        "\n",
        "cols = ['Premium%', 'Discount%']\n",
        "#df_bees_stats[cols] = df_bees_stats[cols].round(2)\n",
        "df_bees_stats = df_bees_stats.round(2)\n",
        "\n",
        "df_bees_stats.sort_values(by = 'Upside%52W', ascending=False)"
      ],
      "metadata": {
        "id": "QqTv-2ch7QHS",
        "outputId": "e58ac2f1-fae0-4d5b-a2d6-759cbb8d8932",
        "colab": {
          "base_uri": "https://localhost:8080/",
          "height": 332
        }
      },
      "id": "QqTv-2ch7QHS",
      "execution_count": 46,
      "outputs": [
        {
          "output_type": "execute_result",
          "data": {
            "text/plain": [
              "          ETF  Close 52WLow 52WHigh   Premium%  Discount% Upside%52W\n",
              "0      ITBEES   30.0   27.1    39.9   22.65625   77.34375       33.0\n",
              "0  PHARMABEES   11.8   11.6    15.2   5.555556  94.444444  28.813559\n",
              "0  JUNIORBEES  401.0  352.6   511.2  30.517024  69.482976  27.481297\n",
              "0  CONSUMBEES   77.9   68.7    99.3  30.065359  69.934641  27.471117\n",
              "0    AUTOBEES  124.1  101.4   143.9  53.411765  46.588235  15.954875\n",
              "0  MID150BEES  116.1   87.3   133.2  62.745098  37.254902  14.728682\n",
              "0   INFRABEES  529.2  457.7   600.1  50.210674  49.789326  13.397581\n",
              "0   NIFTYBEES  187.4  153.3   210.0  60.141093  39.858907  12.059765\n",
              "0    BANKBEES  399.8  326.3   446.2  61.301084  38.698916  11.605803"
            ],
            "text/html": [
              "\n",
              "  <div id=\"df-f9a9d230-938a-4c41-bbc2-bddf6a409dbe\">\n",
              "    <div class=\"colab-df-container\">\n",
              "      <div>\n",
              "<style scoped>\n",
              "    .dataframe tbody tr th:only-of-type {\n",
              "        vertical-align: middle;\n",
              "    }\n",
              "\n",
              "    .dataframe tbody tr th {\n",
              "        vertical-align: top;\n",
              "    }\n",
              "\n",
              "    .dataframe thead th {\n",
              "        text-align: right;\n",
              "    }\n",
              "</style>\n",
              "<table border=\"1\" class=\"dataframe\">\n",
              "  <thead>\n",
              "    <tr style=\"text-align: right;\">\n",
              "      <th></th>\n",
              "      <th>ETF</th>\n",
              "      <th>Close</th>\n",
              "      <th>52WLow</th>\n",
              "      <th>52WHigh</th>\n",
              "      <th>Premium%</th>\n",
              "      <th>Discount%</th>\n",
              "      <th>Upside%52W</th>\n",
              "    </tr>\n",
              "  </thead>\n",
              "  <tbody>\n",
              "    <tr>\n",
              "      <th>0</th>\n",
              "      <td>ITBEES</td>\n",
              "      <td>30.0</td>\n",
              "      <td>27.1</td>\n",
              "      <td>39.9</td>\n",
              "      <td>22.65625</td>\n",
              "      <td>77.34375</td>\n",
              "      <td>33.0</td>\n",
              "    </tr>\n",
              "    <tr>\n",
              "      <th>0</th>\n",
              "      <td>PHARMABEES</td>\n",
              "      <td>11.8</td>\n",
              "      <td>11.6</td>\n",
              "      <td>15.2</td>\n",
              "      <td>5.555556</td>\n",
              "      <td>94.444444</td>\n",
              "      <td>28.813559</td>\n",
              "    </tr>\n",
              "    <tr>\n",
              "      <th>0</th>\n",
              "      <td>JUNIORBEES</td>\n",
              "      <td>401.0</td>\n",
              "      <td>352.6</td>\n",
              "      <td>511.2</td>\n",
              "      <td>30.517024</td>\n",
              "      <td>69.482976</td>\n",
              "      <td>27.481297</td>\n",
              "    </tr>\n",
              "    <tr>\n",
              "      <th>0</th>\n",
              "      <td>CONSUMBEES</td>\n",
              "      <td>77.9</td>\n",
              "      <td>68.7</td>\n",
              "      <td>99.3</td>\n",
              "      <td>30.065359</td>\n",
              "      <td>69.934641</td>\n",
              "      <td>27.471117</td>\n",
              "    </tr>\n",
              "    <tr>\n",
              "      <th>0</th>\n",
              "      <td>AUTOBEES</td>\n",
              "      <td>124.1</td>\n",
              "      <td>101.4</td>\n",
              "      <td>143.9</td>\n",
              "      <td>53.411765</td>\n",
              "      <td>46.588235</td>\n",
              "      <td>15.954875</td>\n",
              "    </tr>\n",
              "    <tr>\n",
              "      <th>0</th>\n",
              "      <td>MID150BEES</td>\n",
              "      <td>116.1</td>\n",
              "      <td>87.3</td>\n",
              "      <td>133.2</td>\n",
              "      <td>62.745098</td>\n",
              "      <td>37.254902</td>\n",
              "      <td>14.728682</td>\n",
              "    </tr>\n",
              "    <tr>\n",
              "      <th>0</th>\n",
              "      <td>INFRABEES</td>\n",
              "      <td>529.2</td>\n",
              "      <td>457.7</td>\n",
              "      <td>600.1</td>\n",
              "      <td>50.210674</td>\n",
              "      <td>49.789326</td>\n",
              "      <td>13.397581</td>\n",
              "    </tr>\n",
              "    <tr>\n",
              "      <th>0</th>\n",
              "      <td>NIFTYBEES</td>\n",
              "      <td>187.4</td>\n",
              "      <td>153.3</td>\n",
              "      <td>210.0</td>\n",
              "      <td>60.141093</td>\n",
              "      <td>39.858907</td>\n",
              "      <td>12.059765</td>\n",
              "    </tr>\n",
              "    <tr>\n",
              "      <th>0</th>\n",
              "      <td>BANKBEES</td>\n",
              "      <td>399.8</td>\n",
              "      <td>326.3</td>\n",
              "      <td>446.2</td>\n",
              "      <td>61.301084</td>\n",
              "      <td>38.698916</td>\n",
              "      <td>11.605803</td>\n",
              "    </tr>\n",
              "  </tbody>\n",
              "</table>\n",
              "</div>\n",
              "      <button class=\"colab-df-convert\" onclick=\"convertToInteractive('df-f9a9d230-938a-4c41-bbc2-bddf6a409dbe')\"\n",
              "              title=\"Convert this dataframe to an interactive table.\"\n",
              "              style=\"display:none;\">\n",
              "        \n",
              "  <svg xmlns=\"http://www.w3.org/2000/svg\" height=\"24px\"viewBox=\"0 0 24 24\"\n",
              "       width=\"24px\">\n",
              "    <path d=\"M0 0h24v24H0V0z\" fill=\"none\"/>\n",
              "    <path d=\"M18.56 5.44l.94 2.06.94-2.06 2.06-.94-2.06-.94-.94-2.06-.94 2.06-2.06.94zm-11 1L8.5 8.5l.94-2.06 2.06-.94-2.06-.94L8.5 2.5l-.94 2.06-2.06.94zm10 10l.94 2.06.94-2.06 2.06-.94-2.06-.94-.94-2.06-.94 2.06-2.06.94z\"/><path d=\"M17.41 7.96l-1.37-1.37c-.4-.4-.92-.59-1.43-.59-.52 0-1.04.2-1.43.59L10.3 9.45l-7.72 7.72c-.78.78-.78 2.05 0 2.83L4 21.41c.39.39.9.59 1.41.59.51 0 1.02-.2 1.41-.59l7.78-7.78 2.81-2.81c.8-.78.8-2.07 0-2.86zM5.41 20L4 18.59l7.72-7.72 1.47 1.35L5.41 20z\"/>\n",
              "  </svg>\n",
              "      </button>\n",
              "      \n",
              "  <style>\n",
              "    .colab-df-container {\n",
              "      display:flex;\n",
              "      flex-wrap:wrap;\n",
              "      gap: 12px;\n",
              "    }\n",
              "\n",
              "    .colab-df-convert {\n",
              "      background-color: #E8F0FE;\n",
              "      border: none;\n",
              "      border-radius: 50%;\n",
              "      cursor: pointer;\n",
              "      display: none;\n",
              "      fill: #1967D2;\n",
              "      height: 32px;\n",
              "      padding: 0 0 0 0;\n",
              "      width: 32px;\n",
              "    }\n",
              "\n",
              "    .colab-df-convert:hover {\n",
              "      background-color: #E2EBFA;\n",
              "      box-shadow: 0px 1px 2px rgba(60, 64, 67, 0.3), 0px 1px 3px 1px rgba(60, 64, 67, 0.15);\n",
              "      fill: #174EA6;\n",
              "    }\n",
              "\n",
              "    [theme=dark] .colab-df-convert {\n",
              "      background-color: #3B4455;\n",
              "      fill: #D2E3FC;\n",
              "    }\n",
              "\n",
              "    [theme=dark] .colab-df-convert:hover {\n",
              "      background-color: #434B5C;\n",
              "      box-shadow: 0px 1px 3px 1px rgba(0, 0, 0, 0.15);\n",
              "      filter: drop-shadow(0px 1px 2px rgba(0, 0, 0, 0.3));\n",
              "      fill: #FFFFFF;\n",
              "    }\n",
              "  </style>\n",
              "\n",
              "      <script>\n",
              "        const buttonEl =\n",
              "          document.querySelector('#df-f9a9d230-938a-4c41-bbc2-bddf6a409dbe button.colab-df-convert');\n",
              "        buttonEl.style.display =\n",
              "          google.colab.kernel.accessAllowed ? 'block' : 'none';\n",
              "\n",
              "        async function convertToInteractive(key) {\n",
              "          const element = document.querySelector('#df-f9a9d230-938a-4c41-bbc2-bddf6a409dbe');\n",
              "          const dataTable =\n",
              "            await google.colab.kernel.invokeFunction('convertToInteractive',\n",
              "                                                     [key], {});\n",
              "          if (!dataTable) return;\n",
              "\n",
              "          const docLinkHtml = 'Like what you see? Visit the ' +\n",
              "            '<a target=\"_blank\" href=https://colab.research.google.com/notebooks/data_table.ipynb>data table notebook</a>'\n",
              "            + ' to learn more about interactive tables.';\n",
              "          element.innerHTML = '';\n",
              "          dataTable['output_type'] = 'display_data';\n",
              "          await google.colab.output.renderOutput(dataTable, element);\n",
              "          const docLink = document.createElement('div');\n",
              "          docLink.innerHTML = docLinkHtml;\n",
              "          element.appendChild(docLink);\n",
              "        }\n",
              "      </script>\n",
              "    </div>\n",
              "  </div>\n",
              "  "
            ]
          },
          "metadata": {},
          "execution_count": 46
        }
      ]
    }
  ],
  "metadata": {
    "kernelspec": {
      "display_name": "Python 3",
      "language": "python",
      "name": "python3"
    },
    "language_info": {
      "codemirror_mode": {
        "name": "ipython",
        "version": 3
      },
      "file_extension": ".py",
      "mimetype": "text/x-python",
      "name": "python",
      "nbconvert_exporter": "python",
      "pygments_lexer": "ipython3",
      "version": "3.8.8"
    },
    "colab": {
      "provenance": [],
      "include_colab_link": true
    }
  },
  "nbformat": 4,
  "nbformat_minor": 5
}