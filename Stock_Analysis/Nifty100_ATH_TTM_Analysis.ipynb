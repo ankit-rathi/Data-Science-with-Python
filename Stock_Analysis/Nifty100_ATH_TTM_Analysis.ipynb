{
  "metadata": {
    "kernelspec": {
      "language": "python",
      "display_name": "Python 3",
      "name": "python3"
    },
    "language_info": {
      "name": "python",
      "version": "3.7.12",
      "mimetype": "text/x-python",
      "codemirror_mode": {
        "name": "ipython",
        "version": 3
      },
      "pygments_lexer": "ipython3",
      "nbconvert_exporter": "python",
      "file_extension": ".py"
    },
    "colab": {
      "provenance": [],
      "include_colab_link": true
    }
  },
  "nbformat_minor": 0,
  "nbformat": 4,
  "cells": [
    {
      "cell_type": "markdown",
      "metadata": {
        "id": "view-in-github",
        "colab_type": "text"
      },
      "source": [
        "<a href=\"https://colab.research.google.com/github/ankit-rathi/Data-Science-with-Python/blob/master/Stock_Analysis/Nifty100_ATH_TTM_Analysis.ipynb\" target=\"_parent\"><img src=\"https://colab.research.google.com/assets/colab-badge.svg\" alt=\"Open In Colab\"/></a>"
      ]
    },
    {
      "cell_type": "code",
      "source": [
        "!pip install yfinance"
      ],
      "metadata": {
        "_uuid": "8f2839f25d086af736a60e9eeb907d3b93b6e0e5",
        "_cell_guid": "b1076dfc-b9ad-4769-8c92-a6c4dae69d19",
        "execution": {
          "iopub.status.busy": "2023-05-01T06:56:49.921648Z",
          "iopub.execute_input": "2023-05-01T06:56:49.921996Z",
          "iopub.status.idle": "2023-05-01T06:57:01.955306Z",
          "shell.execute_reply.started": "2023-05-01T06:56:49.921961Z",
          "shell.execute_reply": "2023-05-01T06:57:01.953961Z"
        },
        "trusted": true,
        "id": "7wWe7jU67N8M",
        "outputId": "ae46b10d-7b25-471d-8853-dc697df57da3",
        "colab": {
          "base_uri": "https://localhost:8080/"
        }
      },
      "execution_count": 1,
      "outputs": [
        {
          "output_type": "stream",
          "name": "stdout",
          "text": [
            "Looking in indexes: https://pypi.org/simple, https://us-python.pkg.dev/colab-wheels/public/simple/\n",
            "Requirement already satisfied: yfinance in /usr/local/lib/python3.10/dist-packages (0.2.18)\n",
            "Requirement already satisfied: pandas>=1.3.0 in /usr/local/lib/python3.10/dist-packages (from yfinance) (1.5.3)\n",
            "Requirement already satisfied: numpy>=1.16.5 in /usr/local/lib/python3.10/dist-packages (from yfinance) (1.22.4)\n",
            "Requirement already satisfied: requests>=2.26 in /usr/local/lib/python3.10/dist-packages (from yfinance) (2.27.1)\n",
            "Requirement already satisfied: multitasking>=0.0.7 in /usr/local/lib/python3.10/dist-packages (from yfinance) (0.0.11)\n",
            "Requirement already satisfied: lxml>=4.9.1 in /usr/local/lib/python3.10/dist-packages (from yfinance) (4.9.2)\n",
            "Requirement already satisfied: appdirs>=1.4.4 in /usr/local/lib/python3.10/dist-packages (from yfinance) (1.4.4)\n",
            "Requirement already satisfied: pytz>=2022.5 in /usr/local/lib/python3.10/dist-packages (from yfinance) (2022.7.1)\n",
            "Requirement already satisfied: frozendict>=2.3.4 in /usr/local/lib/python3.10/dist-packages (from yfinance) (2.3.7)\n",
            "Requirement already satisfied: cryptography>=3.3.2 in /usr/local/lib/python3.10/dist-packages (from yfinance) (40.0.2)\n",
            "Requirement already satisfied: beautifulsoup4>=4.11.1 in /usr/local/lib/python3.10/dist-packages (from yfinance) (4.11.2)\n",
            "Requirement already satisfied: html5lib>=1.1 in /usr/local/lib/python3.10/dist-packages (from yfinance) (1.1)\n",
            "Requirement already satisfied: soupsieve>1.2 in /usr/local/lib/python3.10/dist-packages (from beautifulsoup4>=4.11.1->yfinance) (2.4.1)\n",
            "Requirement already satisfied: cffi>=1.12 in /usr/local/lib/python3.10/dist-packages (from cryptography>=3.3.2->yfinance) (1.15.1)\n",
            "Requirement already satisfied: six>=1.9 in /usr/local/lib/python3.10/dist-packages (from html5lib>=1.1->yfinance) (1.16.0)\n",
            "Requirement already satisfied: webencodings in /usr/local/lib/python3.10/dist-packages (from html5lib>=1.1->yfinance) (0.5.1)\n",
            "Requirement already satisfied: python-dateutil>=2.8.1 in /usr/local/lib/python3.10/dist-packages (from pandas>=1.3.0->yfinance) (2.8.2)\n",
            "Requirement already satisfied: urllib3<1.27,>=1.21.1 in /usr/local/lib/python3.10/dist-packages (from requests>=2.26->yfinance) (1.26.15)\n",
            "Requirement already satisfied: certifi>=2017.4.17 in /usr/local/lib/python3.10/dist-packages (from requests>=2.26->yfinance) (2022.12.7)\n",
            "Requirement already satisfied: charset-normalizer~=2.0.0 in /usr/local/lib/python3.10/dist-packages (from requests>=2.26->yfinance) (2.0.12)\n",
            "Requirement already satisfied: idna<4,>=2.5 in /usr/local/lib/python3.10/dist-packages (from requests>=2.26->yfinance) (3.4)\n",
            "Requirement already satisfied: pycparser in /usr/local/lib/python3.10/dist-packages (from cffi>=1.12->cryptography>=3.3.2->yfinance) (2.21)\n"
          ]
        }
      ]
    },
    {
      "cell_type": "code",
      "source": [
        "import pandas as pd\n",
        "import numpy as np\n",
        "from google.colab import drive\n",
        "drive.mount('/content/drive')\n",
        "\n",
        "mypf = pd.read_csv('/content/drive/My Drive/data/stocks/Nifty100Scrips.csv')\n",
        "\n",
        "mypf = mypf[mypf['LatestQtr'] == 0]\n",
        "#mypf = mypf[mypf['v80'] == 1]\n",
        "\n",
        "stock_n100 = mypf['Symbol'].unique()\n",
        "\n",
        "exclude = ['ACC','AMBUJACEM','CADILAHC','GILLETTE','NESTLEIND','PGHH','SIEMENS']\n",
        "\n",
        "stock_n100 = mypf[~mypf['Symbol'].isin(exclude) ]['Symbol']\n",
        "\n",
        "#stock_ids\n",
        "\n",
        "stock_ids = stock_n100\n",
        "#stock_ids = ['DIVISLAB', 'HDFCBANK']\n",
        "print('Stocks to be scanned:',len(stock_ids))"
      ],
      "metadata": {
        "execution": {
          "iopub.status.busy": "2023-05-01T06:57:01.958043Z",
          "iopub.execute_input": "2023-05-01T06:57:01.958470Z",
          "iopub.status.idle": "2023-05-01T06:57:02.180599Z",
          "shell.execute_reply.started": "2023-05-01T06:57:01.958416Z",
          "shell.execute_reply": "2023-05-01T06:57:02.179469Z"
        },
        "trusted": true,
        "id": "y8eigjss7N8O",
        "outputId": "da2678c7-769a-42bc-c7b4-b5b1155d27cd",
        "colab": {
          "base_uri": "https://localhost:8080/"
        }
      },
      "execution_count": 2,
      "outputs": [
        {
          "output_type": "stream",
          "name": "stdout",
          "text": [
            "Drive already mounted at /content/drive; to attempt to forcibly remount, call drive.mount(\"/content/drive\", force_remount=True).\n",
            "Stocks to be scanned: 77\n"
          ]
        }
      ]
    },
    {
      "cell_type": "code",
      "source": [
        "import requests\n",
        "from bs4 import BeautifulSoup\n",
        "import pandas as pd\n",
        "\n",
        "df_latest_analysis = pd.DataFrame()\n",
        "\n",
        "for stock_name in stock_ids: \n",
        "\n",
        "\n",
        "    print(stock_name)\n",
        "\n",
        "    link_blueprint = \"https://www.screener.in/company/\"\n",
        "    \n",
        "    stock_list = ['AUBANK', 'COLPAL', 'GLAND','WHIRLPOOL']\n",
        "    \n",
        "    if stock_name in stock_list:\n",
        "        actual_link = link_blueprint + stock_name.upper()\n",
        "    else:\n",
        "        actual_link = link_blueprint + stock_name.upper()  + \"/consolidated/\"\n",
        "\n",
        "    def get_list(actual_link):\n",
        "        page = requests.get(actual_link)\n",
        "        link_soup = BeautifulSoup(page.content, 'html.parser')\n",
        "\n",
        "        test_list = link_soup.find(id=\"profit-loss\").text.replace(\"  \", \"\").split('\\n')\n",
        "\n",
        "        while(\"\" in test_list) :\n",
        "            test_list.remove(\"\")\n",
        "        while(\"\\r\" in test_list) :\n",
        "            test_list.remove(\"\\r\")        \n",
        "        while(\" \\r\" in test_list) :\n",
        "            test_list.remove(\" \\r\")\n",
        "\n",
        "        return test_list\n",
        "\n",
        "    test_list = get_list(actual_link)\n",
        "\n",
        "    #print(len(test_list))\n",
        "    n = len(test_list) \n",
        "\n",
        "    if n < 100:\n",
        "        actual_link = link_blueprint + stock_name.upper() \n",
        "        test_list = get_list(actual_link)\n",
        "        #print(len(test_list))\n",
        "\n",
        "    q = 0\n",
        "\n",
        "    if n > 162:\n",
        "        p = 8\n",
        "        q = n-162\n",
        "    elif n > 120 and n <= 162:\n",
        "        p = 8\n",
        "    elif n < 120 and n > 100:\n",
        "        p = 7   \n",
        "\n",
        "    else:\n",
        "        p = 6\n",
        "\n",
        "    \n",
        "    #print(test_list)\n",
        "    if 'TTM' in test_list:\n",
        "        end_year = 'TTM'\n",
        "    else:\n",
        "        end_year = 'Mar 2023'\n",
        "        df_yoy = pd.DataFrame()      \n",
        "        s = test_list.index(end_year) +1 - test_list.index('Mar 2017')\n",
        "\n",
        "        df_yoy['Year'] = test_list[test_list.index('Mar 2017'):test_list.index(end_year)+1]\n",
        "        df_yoy['Sales'] = test_list[test_list.index('Expenses\\xa0+')-s:test_list.index('Expenses\\xa0+')]\n",
        "        df_yoy['Profit'] = test_list[test_list.index('Tax %')-s:test_list.index('Tax %')]\n",
        "\n",
        "        df_yoy.set_index('Year', inplace=True)\n",
        "        df_yoy = df_yoy.T\n",
        "        df_yoy['Stock'] = stock_name.upper() + '.NS'\n",
        "        #df_yoy\n",
        "        df_latest_analysis = pd.concat([df_latest_analysis, df_yoy])\n",
        "    \n",
        "df_latest_analysis "
      ],
      "metadata": {
        "execution": {
          "iopub.status.busy": "2023-05-01T06:57:02.181994Z",
          "iopub.execute_input": "2023-05-01T06:57:02.182375Z",
          "iopub.status.idle": "2023-05-01T06:57:46.732071Z",
          "shell.execute_reply.started": "2023-05-01T06:57:02.182335Z",
          "shell.execute_reply": "2023-05-01T06:57:46.730887Z"
        },
        "trusted": true,
        "id": "ZF74Upq_7N8O",
        "outputId": "77d314e5-14a9-4e66-9dc3-1cf7048f3e1d",
        "colab": {
          "base_uri": "https://localhost:8080/",
          "height": 1000
        }
      },
      "execution_count": 3,
      "outputs": [
        {
          "output_type": "stream",
          "name": "stdout",
          "text": [
            "3MINDIA\n",
            "ABBOTINDIA\n",
            "ADANIPORTS\n",
            "ADANITRANS\n",
            "AKZOINDIA\n",
            "APOLLOHOSP\n",
            "ASTRAZEN\n",
            "AUROPHARMA\n",
            "AVANTIFEED\n",
            "BANDHANBNK\n",
            "BANKBARODA\n",
            "BATAINDIA\n",
            "BAYERCROP\n",
            "BHARTIARTL\n",
            "BIOCON\n",
            "BPCL\n",
            "CAPLIPOINT\n",
            "DIVISLAB\n",
            "DIXON\n",
            "EMAMILTD\n",
            "EQUITAS\n",
            "ERIS\n",
            "FINCABLES\n",
            "FINEORG\n",
            "GAIL\n",
            "GLAND\n",
            "GLAXO\n",
            "GODREJIND\n",
            "GRASIM\n",
            "HINDALCO\n",
            "HONAUT\n",
            "IBREALEST\n",
            "INDIGO\n",
            "INDIGOPNTS\n",
            "IOC\n",
            "IRCTC\n",
            "ITC\n",
            "JCHAC\n",
            "JINDALSTEL\n",
            "JSWSTEEL\n",
            "JUBLFOOD\n",
            "LUXIND\n",
            "M&M\n",
            "MCDOWELL-N\n",
            "MCX\n",
            "MUTHOOTFIN\n",
            "NATIONALUM\n",
            "NAUKRI\n",
            "NMDC\n",
            "NTPC\n",
            "ONGC\n",
            "PAGEIND\n",
            "PIIND\n",
            "PNB\n",
            "POWERGRID\n",
            "PVRINOX\n",
            "RADICO\n",
            "RAJESHEXPO\n",
            "SAIL\n",
            "SANOFI\n",
            "SBIN\n",
            "SFL\n",
            "SHREECEM\n",
            "SUNPHARMA\n",
            "SUNTV\n",
            "SUZLON\n",
            "TASTYBITE\n",
            "TEAMLEASE\n",
            "TORNTPHARM\n",
            "TTKPRESTIG\n",
            "UJJIVAN\n",
            "VAIBHAVGBL\n",
            "VALIANTORG\n",
            "VGUARD\n",
            "VINATIORGA\n",
            "WHIRLPOOL\n",
            "ZEEL\n"
          ]
        },
        {
          "output_type": "execute_result",
          "data": {
            "text/plain": [
              "Year   Mar 2017 Mar 2018 Mar 2019 Mar 2020 Mar 2021 Mar 2022 Mar 2023  \\\n",
              "Sales    29,596   29,160   32,506   50,040   43,201   38,815   49,942   \n",
              "Profit    3,024   -2,106    1,525   -1,234    6,373   10,008   20,565   \n",
              "Sales   355,379  421,492  528,158  483,763  363,950  589,336  841,756   \n",
              "Profit   27,956   34,450   25,927   -7,177   30,751   34,289   15,038   \n",
              "Sales     2,119    2,334    3,086    3,414      280    1,331    3,751   \n",
              "Profit      153      194      299       90     -939     -681     -209   \n",
              "\n",
              "Year            Stock  \n",
              "Sales   BANKBARODA.NS  \n",
              "Profit  BANKBARODA.NS  \n",
              "Sales          IOC.NS  \n",
              "Profit         IOC.NS  \n",
              "Sales      PVRINOX.NS  \n",
              "Profit     PVRINOX.NS  "
            ],
            "text/html": [
              "\n",
              "  <div id=\"df-9f87ec67-a2c8-4abe-b996-45c642dc903c\">\n",
              "    <div class=\"colab-df-container\">\n",
              "      <div>\n",
              "<style scoped>\n",
              "    .dataframe tbody tr th:only-of-type {\n",
              "        vertical-align: middle;\n",
              "    }\n",
              "\n",
              "    .dataframe tbody tr th {\n",
              "        vertical-align: top;\n",
              "    }\n",
              "\n",
              "    .dataframe thead th {\n",
              "        text-align: right;\n",
              "    }\n",
              "</style>\n",
              "<table border=\"1\" class=\"dataframe\">\n",
              "  <thead>\n",
              "    <tr style=\"text-align: right;\">\n",
              "      <th>Year</th>\n",
              "      <th>Mar 2017</th>\n",
              "      <th>Mar 2018</th>\n",
              "      <th>Mar 2019</th>\n",
              "      <th>Mar 2020</th>\n",
              "      <th>Mar 2021</th>\n",
              "      <th>Mar 2022</th>\n",
              "      <th>Mar 2023</th>\n",
              "      <th>Stock</th>\n",
              "    </tr>\n",
              "  </thead>\n",
              "  <tbody>\n",
              "    <tr>\n",
              "      <th>Sales</th>\n",
              "      <td>29,596</td>\n",
              "      <td>29,160</td>\n",
              "      <td>32,506</td>\n",
              "      <td>50,040</td>\n",
              "      <td>43,201</td>\n",
              "      <td>38,815</td>\n",
              "      <td>49,942</td>\n",
              "      <td>BANKBARODA.NS</td>\n",
              "    </tr>\n",
              "    <tr>\n",
              "      <th>Profit</th>\n",
              "      <td>3,024</td>\n",
              "      <td>-2,106</td>\n",
              "      <td>1,525</td>\n",
              "      <td>-1,234</td>\n",
              "      <td>6,373</td>\n",
              "      <td>10,008</td>\n",
              "      <td>20,565</td>\n",
              "      <td>BANKBARODA.NS</td>\n",
              "    </tr>\n",
              "    <tr>\n",
              "      <th>Sales</th>\n",
              "      <td>355,379</td>\n",
              "      <td>421,492</td>\n",
              "      <td>528,158</td>\n",
              "      <td>483,763</td>\n",
              "      <td>363,950</td>\n",
              "      <td>589,336</td>\n",
              "      <td>841,756</td>\n",
              "      <td>IOC.NS</td>\n",
              "    </tr>\n",
              "    <tr>\n",
              "      <th>Profit</th>\n",
              "      <td>27,956</td>\n",
              "      <td>34,450</td>\n",
              "      <td>25,927</td>\n",
              "      <td>-7,177</td>\n",
              "      <td>30,751</td>\n",
              "      <td>34,289</td>\n",
              "      <td>15,038</td>\n",
              "      <td>IOC.NS</td>\n",
              "    </tr>\n",
              "    <tr>\n",
              "      <th>Sales</th>\n",
              "      <td>2,119</td>\n",
              "      <td>2,334</td>\n",
              "      <td>3,086</td>\n",
              "      <td>3,414</td>\n",
              "      <td>280</td>\n",
              "      <td>1,331</td>\n",
              "      <td>3,751</td>\n",
              "      <td>PVRINOX.NS</td>\n",
              "    </tr>\n",
              "    <tr>\n",
              "      <th>Profit</th>\n",
              "      <td>153</td>\n",
              "      <td>194</td>\n",
              "      <td>299</td>\n",
              "      <td>90</td>\n",
              "      <td>-939</td>\n",
              "      <td>-681</td>\n",
              "      <td>-209</td>\n",
              "      <td>PVRINOX.NS</td>\n",
              "    </tr>\n",
              "  </tbody>\n",
              "</table>\n",
              "</div>\n",
              "      <button class=\"colab-df-convert\" onclick=\"convertToInteractive('df-9f87ec67-a2c8-4abe-b996-45c642dc903c')\"\n",
              "              title=\"Convert this dataframe to an interactive table.\"\n",
              "              style=\"display:none;\">\n",
              "        \n",
              "  <svg xmlns=\"http://www.w3.org/2000/svg\" height=\"24px\"viewBox=\"0 0 24 24\"\n",
              "       width=\"24px\">\n",
              "    <path d=\"M0 0h24v24H0V0z\" fill=\"none\"/>\n",
              "    <path d=\"M18.56 5.44l.94 2.06.94-2.06 2.06-.94-2.06-.94-.94-2.06-.94 2.06-2.06.94zm-11 1L8.5 8.5l.94-2.06 2.06-.94-2.06-.94L8.5 2.5l-.94 2.06-2.06.94zm10 10l.94 2.06.94-2.06 2.06-.94-2.06-.94-.94-2.06-.94 2.06-2.06.94z\"/><path d=\"M17.41 7.96l-1.37-1.37c-.4-.4-.92-.59-1.43-.59-.52 0-1.04.2-1.43.59L10.3 9.45l-7.72 7.72c-.78.78-.78 2.05 0 2.83L4 21.41c.39.39.9.59 1.41.59.51 0 1.02-.2 1.41-.59l7.78-7.78 2.81-2.81c.8-.78.8-2.07 0-2.86zM5.41 20L4 18.59l7.72-7.72 1.47 1.35L5.41 20z\"/>\n",
              "  </svg>\n",
              "      </button>\n",
              "      \n",
              "  <style>\n",
              "    .colab-df-container {\n",
              "      display:flex;\n",
              "      flex-wrap:wrap;\n",
              "      gap: 12px;\n",
              "    }\n",
              "\n",
              "    .colab-df-convert {\n",
              "      background-color: #E8F0FE;\n",
              "      border: none;\n",
              "      border-radius: 50%;\n",
              "      cursor: pointer;\n",
              "      display: none;\n",
              "      fill: #1967D2;\n",
              "      height: 32px;\n",
              "      padding: 0 0 0 0;\n",
              "      width: 32px;\n",
              "    }\n",
              "\n",
              "    .colab-df-convert:hover {\n",
              "      background-color: #E2EBFA;\n",
              "      box-shadow: 0px 1px 2px rgba(60, 64, 67, 0.3), 0px 1px 3px 1px rgba(60, 64, 67, 0.15);\n",
              "      fill: #174EA6;\n",
              "    }\n",
              "\n",
              "    [theme=dark] .colab-df-convert {\n",
              "      background-color: #3B4455;\n",
              "      fill: #D2E3FC;\n",
              "    }\n",
              "\n",
              "    [theme=dark] .colab-df-convert:hover {\n",
              "      background-color: #434B5C;\n",
              "      box-shadow: 0px 1px 3px 1px rgba(0, 0, 0, 0.15);\n",
              "      filter: drop-shadow(0px 1px 2px rgba(0, 0, 0, 0.3));\n",
              "      fill: #FFFFFF;\n",
              "    }\n",
              "  </style>\n",
              "\n",
              "      <script>\n",
              "        const buttonEl =\n",
              "          document.querySelector('#df-9f87ec67-a2c8-4abe-b996-45c642dc903c button.colab-df-convert');\n",
              "        buttonEl.style.display =\n",
              "          google.colab.kernel.accessAllowed ? 'block' : 'none';\n",
              "\n",
              "        async function convertToInteractive(key) {\n",
              "          const element = document.querySelector('#df-9f87ec67-a2c8-4abe-b996-45c642dc903c');\n",
              "          const dataTable =\n",
              "            await google.colab.kernel.invokeFunction('convertToInteractive',\n",
              "                                                     [key], {});\n",
              "          if (!dataTable) return;\n",
              "\n",
              "          const docLinkHtml = 'Like what you see? Visit the ' +\n",
              "            '<a target=\"_blank\" href=https://colab.research.google.com/notebooks/data_table.ipynb>data table notebook</a>'\n",
              "            + ' to learn more about interactive tables.';\n",
              "          element.innerHTML = '';\n",
              "          dataTable['output_type'] = 'display_data';\n",
              "          await google.colab.output.renderOutput(dataTable, element);\n",
              "          const docLink = document.createElement('div');\n",
              "          docLink.innerHTML = docLinkHtml;\n",
              "          element.appendChild(docLink);\n",
              "        }\n",
              "      </script>\n",
              "    </div>\n",
              "  </div>\n",
              "  "
            ]
          },
          "metadata": {},
          "execution_count": 3
        }
      ]
    },
    {
      "cell_type": "code",
      "source": [
        "print('Stocks updated:', df_latest_analysis.shape[0]/2)\n",
        "if df_latest_analysis.shape[0] > 0:\n",
        "  lastestq_stocks = list(df_latest_analysis['Stock'].unique())\n",
        "  len(lastestq_stocks)"
      ],
      "metadata": {
        "id": "VYs-ulzTVt1W",
        "outputId": "0bf869b4-56e2-41cf-ae89-2c511bcc5438",
        "colab": {
          "base_uri": "https://localhost:8080/"
        }
      },
      "execution_count": 4,
      "outputs": [
        {
          "output_type": "stream",
          "name": "stdout",
          "text": [
            "Stocks updated: 3.0\n"
          ]
        }
      ]
    },
    {
      "cell_type": "code",
      "source": [
        "if df_latest_analysis.shape[0] > 0:\n",
        "  #df_analysis.columns\n",
        "  df_latest_analysis = df_latest_analysis.reset_index()\n",
        "  df_latest_analysis.rename({'Mar 2023': 'Latest', 'index': 'Type'}, axis=1, inplace=True)\n",
        "  cols = [ 'Mar 2017','Mar 2018', 'Mar 2019', 'Mar 2020', 'Mar 2021', 'Mar 2022', 'Latest']\n",
        "  #df_analysis[cols] = df_analysis[cols].apply(pd.to_numeric)\n",
        "  for col in cols:\n",
        "      df_latest_analysis[col] = df_latest_analysis[col].str.replace(',', '').astype(float)"
      ],
      "metadata": {
        "execution": {
          "iopub.status.busy": "2023-05-01T06:57:46.735241Z",
          "iopub.execute_input": "2023-05-01T06:57:46.735847Z",
          "iopub.status.idle": "2023-05-01T06:57:46.748618Z",
          "shell.execute_reply.started": "2023-05-01T06:57:46.735811Z",
          "shell.execute_reply": "2023-05-01T06:57:46.747261Z"
        },
        "trusted": true,
        "id": "OwTfkPY57N8O"
      },
      "execution_count": 5,
      "outputs": []
    },
    {
      "cell_type": "code",
      "source": [
        "if df_latest_analysis.shape[0] > 0:\n",
        "  df_latest_analysis['Max'] = df_latest_analysis.max(axis=1)\n",
        "  df_latest_analysis['Diff%'] = round((df_latest_analysis['Max'] - df_latest_analysis['Latest'])*100/df_latest_analysis['Max'],2)"
      ],
      "metadata": {
        "execution": {
          "iopub.status.busy": "2023-05-01T06:57:46.781978Z",
          "iopub.execute_input": "2023-05-01T06:57:46.782232Z",
          "iopub.status.idle": "2023-05-01T06:57:46.797684Z",
          "shell.execute_reply.started": "2023-05-01T06:57:46.782206Z",
          "shell.execute_reply": "2023-05-01T06:57:46.796504Z"
        },
        "trusted": true,
        "id": "OoHSiIUx7N8P",
        "outputId": "3a36eac5-995e-440f-dcfe-0ad4d11ce5e6",
        "colab": {
          "base_uri": "https://localhost:8080/"
        }
      },
      "execution_count": 6,
      "outputs": [
        {
          "output_type": "stream",
          "name": "stderr",
          "text": [
            "<ipython-input-6-ff4f08accfa3>:2: FutureWarning: Dropping of nuisance columns in DataFrame reductions (with 'numeric_only=None') is deprecated; in a future version this will raise TypeError.  Select only valid columns before calling the reduction.\n",
            "  df_latest_analysis['Max'] = df_latest_analysis.max(axis=1)\n"
          ]
        }
      ]
    },
    {
      "cell_type": "code",
      "source": [
        "if df_latest_analysis.shape[0] > 0:\n",
        "  df_master_analysis = pd.read_csv('/content/drive/My Drive/data/stocks/Nifty100-ATH-TTM.csv')\n",
        "  df_master_analysis.columns = df_latest_analysis.columns\n",
        "  df_master_analysis = df_master_analysis[~df_master_analysis['Stock'].isin(lastestq_stocks)]\n",
        "  df_master_analysis = pd.concat([df_master_analysis, df_latest_analysis])\n",
        "  df_master_analysis.to_csv('/content/drive/My Drive/data/stocks/Nifty100-ATH-TTM.csv', index=False)"
      ],
      "metadata": {
        "id": "aqvZvlLzZrJa"
      },
      "execution_count": 7,
      "outputs": []
    },
    {
      "cell_type": "code",
      "source": [
        "#df_latest_analysis.to_csv('/content/drive/My Drive/data/stocks/Nifty100-ATH-TTM.csv', index=False)"
      ],
      "metadata": {
        "id": "gPhfcObY3fBN"
      },
      "execution_count": 8,
      "outputs": []
    },
    {
      "cell_type": "code",
      "source": [
        "if df_latest_analysis.shape[0] > 0:\n",
        "  df_tmp = df_latest_analysis[df_latest_analysis['Diff%'] <= 5]\n",
        "  tmp = pd.DataFrame(df_tmp['Stock'].value_counts())\n",
        "  len(tmp[tmp['Stock']>1].index)\n",
        "  star_stocks = list(tmp[tmp['Stock']>1].index)\n",
        "  print(len(star_stocks))"
      ],
      "metadata": {
        "execution": {
          "iopub.status.busy": "2023-05-01T06:57:46.799279Z",
          "iopub.execute_input": "2023-05-01T06:57:46.800440Z",
          "iopub.status.idle": "2023-05-01T06:57:46.811808Z",
          "shell.execute_reply.started": "2023-05-01T06:57:46.800357Z",
          "shell.execute_reply": "2023-05-01T06:57:46.810821Z"
        },
        "trusted": true,
        "id": "qMvbuwBc7N8P",
        "outputId": "f2940929-b6e5-41b3-d6f8-91ed5f8e5af8",
        "colab": {
          "base_uri": "https://localhost:8080/"
        }
      },
      "execution_count": 11,
      "outputs": [
        {
          "output_type": "stream",
          "name": "stdout",
          "text": [
            "1\n"
          ]
        }
      ]
    },
    {
      "cell_type": "code",
      "source": [
        "mypf = pd.read_csv('/content/drive/My Drive/data/stocks/Nifty100Scrips.csv')\n",
        "mypf.loc[mypf['Stock'].isin(star_stocks), 'StarStock'] = 1\n",
        "mypf.loc[mypf['Stock'].isin(lastestq_stocks), 'LatestQtr'] = 1\n",
        "mypf.to_csv('/content/drive/My Drive/data/stocks/Nifty100Scrips.csv', index=False)"
      ],
      "metadata": {
        "execution": {
          "iopub.status.busy": "2023-05-01T06:57:46.812909Z",
          "iopub.execute_input": "2023-05-01T06:57:46.813958Z",
          "iopub.status.idle": "2023-05-01T06:57:46.824657Z",
          "shell.execute_reply.started": "2023-05-01T06:57:46.813906Z",
          "shell.execute_reply": "2023-05-01T06:57:46.822327Z"
        },
        "trusted": true,
        "id": "os0pY4f67N8P"
      },
      "execution_count": 10,
      "outputs": []
    }
  ]
}