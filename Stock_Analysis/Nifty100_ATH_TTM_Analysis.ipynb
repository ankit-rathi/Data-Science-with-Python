{
  "metadata": {
    "kernelspec": {
      "language": "python",
      "display_name": "Python 3",
      "name": "python3"
    },
    "language_info": {
      "name": "python",
      "version": "3.7.12",
      "mimetype": "text/x-python",
      "codemirror_mode": {
        "name": "ipython",
        "version": 3
      },
      "pygments_lexer": "ipython3",
      "nbconvert_exporter": "python",
      "file_extension": ".py"
    },
    "colab": {
      "provenance": [],
      "include_colab_link": true
    }
  },
  "nbformat_minor": 0,
  "nbformat": 4,
  "cells": [
    {
      "cell_type": "markdown",
      "metadata": {
        "id": "view-in-github",
        "colab_type": "text"
      },
      "source": [
        "<a href=\"https://colab.research.google.com/github/ankit-rathi/Data-Science-with-Python/blob/master/Stock_Analysis/Nifty100_ATH_TTM_Analysis.ipynb\" target=\"_parent\"><img src=\"https://colab.research.google.com/assets/colab-badge.svg\" alt=\"Open In Colab\"/></a>"
      ]
    },
    {
      "cell_type": "code",
      "source": [
        "!pip install yfinance"
      ],
      "metadata": {
        "_uuid": "8f2839f25d086af736a60e9eeb907d3b93b6e0e5",
        "_cell_guid": "b1076dfc-b9ad-4769-8c92-a6c4dae69d19",
        "execution": {
          "iopub.status.busy": "2023-05-01T06:56:49.921648Z",
          "iopub.execute_input": "2023-05-01T06:56:49.921996Z",
          "iopub.status.idle": "2023-05-01T06:57:01.955306Z",
          "shell.execute_reply.started": "2023-05-01T06:56:49.921961Z",
          "shell.execute_reply": "2023-05-01T06:57:01.953961Z"
        },
        "trusted": true,
        "id": "7wWe7jU67N8M"
      },
      "execution_count": null,
      "outputs": []
    },
    {
      "cell_type": "code",
      "source": [
        "import pandas as pd\n",
        "import numpy as np\n",
        "\n",
        "mypf = pd.read_csv('https://raw.githubusercontent.com/ankit-rathi/Data-Science-with-Python/master/Stock_Analysis/data/Nifty100Scrips.csv')\n",
        "\n",
        "#mypf = mypf[mypf['Nifty100'] == 1]\n",
        "\n",
        "stock_n100 = mypf['Symbol'].unique()\n",
        "\n",
        "exclude = ['ACC','AMBUJACEM','CADILAHC','GILLETTE','NESTLEIND','PGHH','SIEMENS']\n",
        "\n",
        "stock_n100 = mypf[~mypf['Symbol'].isin(exclude) ]['Symbol']\n",
        "\n",
        "#stock_ids\n",
        "\n",
        "stock_ids = stock_n100[71:]\n",
        "#stock_ids = ['M&M', 'MARUTI']"
      ],
      "metadata": {
        "execution": {
          "iopub.status.busy": "2023-05-01T06:57:01.958043Z",
          "iopub.execute_input": "2023-05-01T06:57:01.958470Z",
          "iopub.status.idle": "2023-05-01T06:57:02.180599Z",
          "shell.execute_reply.started": "2023-05-01T06:57:01.958416Z",
          "shell.execute_reply": "2023-05-01T06:57:02.179469Z"
        },
        "trusted": true,
        "id": "y8eigjss7N8O"
      },
      "execution_count": null,
      "outputs": []
    },
    {
      "cell_type": "code",
      "source": [
        "import requests\n",
        "from bs4 import BeautifulSoup\n",
        "import pandas as pd\n",
        "\n",
        "df_analysis = pd.DataFrame()\n",
        "\n",
        "for stock_name in stock_ids: \n",
        "\n",
        "\n",
        "    print(stock_name)\n",
        "\n",
        "    link_blueprint = \"https://www.screener.in/company/\"\n",
        "    \n",
        "    stock_list = ['AUBANK', 'COLPAL', 'GLAND','WHIRLPOOL']\n",
        "    \n",
        "    if stock_name in stock_list:\n",
        "        actual_link = link_blueprint + stock_name.upper()\n",
        "    else:\n",
        "        actual_link = link_blueprint + stock_name.upper()  + \"/consolidated/\"\n",
        "\n",
        "    def get_list(actual_link):\n",
        "        page = requests.get(actual_link)\n",
        "        link_soup = BeautifulSoup(page.content, 'html.parser')\n",
        "\n",
        "        test_list = link_soup.find(id=\"profit-loss\").text.replace(\"  \", \"\").split('\\n')\n",
        "\n",
        "        while(\"\" in test_list) :\n",
        "            test_list.remove(\"\")\n",
        "        while(\"\\r\" in test_list) :\n",
        "            test_list.remove(\"\\r\")        \n",
        "        while(\" \\r\" in test_list) :\n",
        "            test_list.remove(\" \\r\")\n",
        "\n",
        "        return test_list\n",
        "\n",
        "    test_list = get_list(actual_link)\n",
        "\n",
        "    #print(len(test_list))\n",
        "    n = len(test_list) \n",
        "\n",
        "    if n < 100:\n",
        "        actual_link = link_blueprint + stock_name.upper() \n",
        "        test_list = get_list(actual_link)\n",
        "        #print(len(test_list))\n",
        "\n",
        "    q = 0\n",
        "\n",
        "    if n > 162:\n",
        "        p = 8\n",
        "        q = n-162\n",
        "    elif n > 120 and n <= 162:\n",
        "        p = 8\n",
        "    elif n < 120 and n > 100:\n",
        "        p = 7   \n",
        "\n",
        "    else:\n",
        "        p = 6\n",
        "\n",
        "    df_yoy = pd.DataFrame()\n",
        "    #print(test_list)\n",
        "    if 'TTM' in test_list:\n",
        "        end_year = 'TTM'\n",
        "    else:\n",
        "        end_year = 'Mar 2023'\n",
        "          \n",
        "    s = test_list.index(end_year) +1 - test_list.index('Mar 2017')\n",
        "\n",
        "    df_yoy['Year'] = test_list[test_list.index('Mar 2017'):test_list.index(end_year)+1]\n",
        "    df_yoy['Sales'] = test_list[test_list.index('Expenses\\xa0+')-s:test_list.index('Expenses\\xa0+')]\n",
        "    df_yoy['Profit'] = test_list[test_list.index('Tax %')-s:test_list.index('Tax %')]\n",
        "\n",
        "    df_yoy.set_index('Year', inplace=True)\n",
        "    df_yoy = df_yoy.T\n",
        "    df_yoy['Stock'] = stock_name.upper() + '.NS'\n",
        "    df_yoy\n",
        "    df_analysis = df_analysis.append(df_yoy)\n",
        "    \n",
        "df_analysis"
      ],
      "metadata": {
        "execution": {
          "iopub.status.busy": "2023-05-01T06:57:02.181994Z",
          "iopub.execute_input": "2023-05-01T06:57:02.182375Z",
          "iopub.status.idle": "2023-05-01T06:57:46.732071Z",
          "shell.execute_reply.started": "2023-05-01T06:57:02.182335Z",
          "shell.execute_reply": "2023-05-01T06:57:46.730887Z"
        },
        "trusted": true,
        "id": "ZF74Upq_7N8O"
      },
      "execution_count": null,
      "outputs": []
    },
    {
      "cell_type": "code",
      "source": [
        "#df_analysis.columns\n",
        "cols = [ 'Mar 2017','Mar 2018', 'Mar 2019', 'Mar 2020', 'Mar 2021', 'Mar 2022', 'Mar 2023', 'TTM']\n",
        "#df_analysis[cols] = df_analysis[cols].apply(pd.to_numeric)\n",
        "for col in cols:\n",
        "    df_analysis[col] = df_analysis[col].str.replace(',', '').astype(float)"
      ],
      "metadata": {
        "execution": {
          "iopub.status.busy": "2023-05-01T06:57:46.735241Z",
          "iopub.execute_input": "2023-05-01T06:57:46.735847Z",
          "iopub.status.idle": "2023-05-01T06:57:46.748618Z",
          "shell.execute_reply.started": "2023-05-01T06:57:46.735811Z",
          "shell.execute_reply": "2023-05-01T06:57:46.747261Z"
        },
        "trusted": true,
        "id": "OwTfkPY57N8O"
      },
      "execution_count": null,
      "outputs": []
    },
    {
      "cell_type": "code",
      "source": [
        "print('TTM: ', df_analysis['TTM'].count())\n",
        "print('Mar 2023: ', df_analysis['Mar 2023'].count())"
      ],
      "metadata": {
        "execution": {
          "iopub.status.busy": "2023-05-01T06:57:46.750458Z",
          "iopub.execute_input": "2023-05-01T06:57:46.751672Z",
          "iopub.status.idle": "2023-05-01T06:57:46.768152Z",
          "shell.execute_reply.started": "2023-05-01T06:57:46.751624Z",
          "shell.execute_reply": "2023-05-01T06:57:46.766670Z"
        },
        "trusted": true,
        "id": "VVcu-FlG7N8P"
      },
      "execution_count": null,
      "outputs": []
    },
    {
      "cell_type": "code",
      "source": [
        "df_analysis['Latest']  = df_analysis[[\"TTM\", \"Mar 2023\"]].max(axis=1)\n",
        "df_analysis.drop([ \"TTM\", \"Mar 2023\"], axis=1, inplace=True)"
      ],
      "metadata": {
        "execution": {
          "iopub.status.busy": "2023-05-01T06:57:46.770106Z",
          "iopub.execute_input": "2023-05-01T06:57:46.770465Z",
          "iopub.status.idle": "2023-05-01T06:57:46.780819Z",
          "shell.execute_reply.started": "2023-05-01T06:57:46.770419Z",
          "shell.execute_reply": "2023-05-01T06:57:46.779628Z"
        },
        "trusted": true,
        "id": "Kkx9k9SV7N8P"
      },
      "execution_count": null,
      "outputs": []
    },
    {
      "cell_type": "code",
      "source": [
        "df_analysis['Max'] = df_analysis.max(axis=1)\n",
        "df_analysis['Diff%'] = round((df_analysis['Max'] - df_analysis['Latest'])*100/df_analysis['Max'],2)"
      ],
      "metadata": {
        "execution": {
          "iopub.status.busy": "2023-05-01T06:57:46.781978Z",
          "iopub.execute_input": "2023-05-01T06:57:46.782232Z",
          "iopub.status.idle": "2023-05-01T06:57:46.797684Z",
          "shell.execute_reply.started": "2023-05-01T06:57:46.782206Z",
          "shell.execute_reply": "2023-05-01T06:57:46.796504Z"
        },
        "trusted": true,
        "id": "OoHSiIUx7N8P"
      },
      "execution_count": null,
      "outputs": []
    },
    {
      "cell_type": "code",
      "source": [
        "df_tmp = df_analysis[df_analysis['Diff%'] <= 10]\n",
        "tmp = pd.DataFrame(df_tmp['Stock'].value_counts())\n",
        "len(tmp[tmp['Stock']>1].index)"
      ],
      "metadata": {
        "execution": {
          "iopub.status.busy": "2023-05-01T06:57:46.799279Z",
          "iopub.execute_input": "2023-05-01T06:57:46.800440Z",
          "iopub.status.idle": "2023-05-01T06:57:46.811808Z",
          "shell.execute_reply.started": "2023-05-01T06:57:46.800357Z",
          "shell.execute_reply": "2023-05-01T06:57:46.810821Z"
        },
        "trusted": true,
        "id": "qMvbuwBc7N8P"
      },
      "execution_count": null,
      "outputs": []
    },
    {
      "cell_type": "code",
      "source": [
        "tmp[tmp['Stock']>1].index"
      ],
      "metadata": {
        "execution": {
          "iopub.status.busy": "2023-05-01T06:57:46.812909Z",
          "iopub.execute_input": "2023-05-01T06:57:46.813958Z",
          "iopub.status.idle": "2023-05-01T06:57:46.824657Z",
          "shell.execute_reply.started": "2023-05-01T06:57:46.813906Z",
          "shell.execute_reply": "2023-05-01T06:57:46.822327Z"
        },
        "trusted": true,
        "id": "os0pY4f67N8P"
      },
      "execution_count": null,
      "outputs": []
    }
  ]
}