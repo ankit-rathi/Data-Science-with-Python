{
  "metadata": {
    "kernelspec": {
      "language": "python",
      "display_name": "Python 3",
      "name": "python3"
    },
    "language_info": {
      "name": "python",
      "version": "3.7.12",
      "mimetype": "text/x-python",
      "codemirror_mode": {
        "name": "ipython",
        "version": 3
      },
      "pygments_lexer": "ipython3",
      "nbconvert_exporter": "python",
      "file_extension": ".py"
    },
    "colab": {
      "provenance": [],
      "include_colab_link": true
    }
  },
  "nbformat_minor": 0,
  "nbformat": 4,
  "cells": [
    {
      "cell_type": "markdown",
      "metadata": {
        "id": "view-in-github",
        "colab_type": "text"
      },
      "source": [
        "<a href=\"https://colab.research.google.com/github/ankit-rathi/Data-Science-with-Python/blob/master/Stock_Analysis/Nifty100_Upside_Analysis_ATH.ipynb\" target=\"_parent\"><img src=\"https://colab.research.google.com/assets/colab-badge.svg\" alt=\"Open In Colab\"/></a>"
      ]
    },
    {
      "cell_type": "code",
      "source": [
        "# install libraries\n",
        "!pip install yfinance\n",
        "!pip install pandas-ta\n",
        "#!pip install talib-binary"
      ],
      "metadata": {
        "id": "tfzjusaZRLsM",
        "execution": {
          "iopub.status.busy": "2023-05-01T06:59:35.132641Z",
          "iopub.execute_input": "2023-05-01T06:59:35.133504Z",
          "iopub.status.idle": "2023-05-01T07:00:03.401263Z",
          "shell.execute_reply.started": "2023-05-01T06:59:35.133442Z",
          "shell.execute_reply": "2023-05-01T07:00:03.399749Z"
        },
        "trusted": true
      },
      "execution_count": null,
      "outputs": []
    },
    {
      "cell_type": "code",
      "source": [
        "# set start and end date\n",
        "import datetime\n",
        "start_date = (datetime.date.today() + datetime.timedelta(days=-700)).strftime('%Y-%m-%d')\n",
        "end_date = (datetime.date.today() + datetime.timedelta(days=1)).strftime('%Y-%m-%d')"
      ],
      "metadata": {
        "id": "7R32vicp4fYt",
        "execution": {
          "iopub.status.busy": "2023-05-01T07:00:03.403546Z",
          "iopub.execute_input": "2023-05-01T07:00:03.403913Z",
          "iopub.status.idle": "2023-05-01T07:00:03.414169Z",
          "shell.execute_reply.started": "2023-05-01T07:00:03.403870Z",
          "shell.execute_reply": "2023-05-01T07:00:03.412577Z"
        },
        "trusted": true
      },
      "execution_count": null,
      "outputs": []
    },
    {
      "cell_type": "code",
      "source": [
        "# fetch nifty200 scrips\n",
        "\n",
        "import pandas as pd\n",
        "import numpy as np\n",
        "\n",
        "mypf = pd.read_csv('https://raw.githubusercontent.com/ankit-rathi/Data-Science-with-Python/master/Stock_Analysis/data/Nifty100Scrips.csv')\n",
        "\n",
        "#mypf = mypf[mypf['Nifty100'] == 1]\n",
        "\n",
        "stock_n100 = mypf['Symbol'].unique()\n",
        "\n",
        "exclude = ['CADILAHC','MMTC']\n",
        "\n",
        "stock_n100 = mypf[~mypf['Symbol'].isin(exclude) ]['Symbol'].unique()\n",
        "\n",
        "stock_ids = stock_n100\n",
        "\n",
        "#mypf = mypf[mypf.Forecast.notnull()]\n",
        "#stock_ids = mypf['Symbol'].unique()\n",
        "\n",
        "stock_ids.sort()\n",
        "stock_ids"
      ],
      "metadata": {
        "id": "7e7c4f66",
        "execution": {
          "iopub.status.busy": "2023-05-01T07:00:03.416311Z",
          "iopub.execute_input": "2023-05-01T07:00:03.416821Z",
          "iopub.status.idle": "2023-05-01T07:00:03.595701Z",
          "shell.execute_reply.started": "2023-05-01T07:00:03.416784Z",
          "shell.execute_reply": "2023-05-01T07:00:03.594199Z"
        },
        "trusted": true
      },
      "execution_count": null,
      "outputs": []
    },
    {
      "cell_type": "code",
      "source": [
        "new_stars = ['ADANIENT.NS', 'COLPAL.NS', 'DMART.NS', 'DRREDDY.NS', 'EICHERMOT.NS',\n",
        "               'ADANIGREEN.NS', 'FEDERALBNK.NS', 'GODREJCP.NS', 'GODREJIND.NS',\n",
        "               'GRASIM.NS', 'HCLTECH.NS', 'HDFC.NS', 'HDFCBANK.NS', 'HINDUNILVR.NS',\n",
        "               'ICICIBANK.NS', 'ICICIGI.NS', 'IGL.NS', 'INDIANB.NS', 'INDIGOPNTS.NS',\n",
        "               'INDUSINDBK.NS', 'INFY.NS', 'IRCTC.NS', 'ITC.NS', 'JUBLFOOD.NS',\n",
        "               'KOTAKBANK.NS', 'DABUR.NS', 'EMAMILTD.NS', 'COALINDIA.NS',\n",
        "               'BERGEPAINT.NS', 'ADANIPORTS.NS', 'ASIANPAINT.NS', 'AUBANK.NS',\n",
        "               'AXISBANK.NS', 'BAJAJ-AUTO.NS', 'BAJFINANCE.NS', 'BAJAJFINSV.NS',\n",
        "               'BANDHANBNK.NS', 'BANKBARODA.NS', 'LT.NS', 'BRITANNIA.NS', 'CIPLA.NS',\n",
        "               'CHOLAFIN.NS', 'CANBK.NS', 'BHARTIARTL.NS', 'PFIZER.NS', 'PAGEIND.NS', \n",
        "               'TCS.NS', 'SBIN.NS', 'SBILIFE.NS', 'SBICARD.NS', 'M&M.NS', 'RELIANCE.NS', \n",
        "               'TITAN.NS', 'PIIND.NS', 'PIDILITIND.NS', 'TATAPOWER.NS', 'TATACONSUM.NS', \n",
        "               'ONGC.NS', 'WIPRO.NS', 'NTPC.NS', 'UPL.NS', 'MARICO.NS', 'MARUTI.NS', \n",
        "               'MCDOWELL-N.NS', 'MUTHOOTFIN.NS']\n",
        "\n",
        "curr_stars = ['ADANIENT.NS', 'LTIM.NS', 'HCLTECH.NS', 'HDFC.NS', 'HDFCBANK.NS',\n",
        "               'HINDUNILVR.NS', 'ICICIBANK.NS', 'ICICIGI.NS', 'IGL.NS', 'INDIANB.NS',\n",
        "               'INDIGOPNTS.NS', 'ADANIGREEN.NS', 'INFY.NS', 'IRCTC.NS', 'ITC.NS',\n",
        "               'JUBLFOOD.NS', 'M&M.NS', 'GODREJIND.NS', 'MARICO.NS', 'MCDOWELL-N.NS',\n",
        "               'NTPC.NS', 'PAGEIND.NS', 'PIDILITIND.NS', 'PIIND.NS', 'RELIANCE.NS',\n",
        "               'SBICARD.NS', 'SBIN.NS', 'TATACONSUM.NS', 'TATAPOWER.NS', 'TCS.NS',\n",
        "               'TITAN.NS', 'UPL.NS', 'GRASIM.NS', 'INDUSINDBK.NS', 'BAJAJFINSV.NS',\n",
        "               'CANBK.NS', 'CHOLAFIN.NS', 'CIPLA.NS', 'BERGEPAINT.NS', 'COALINDIA.NS',\n",
        "               'AUBANK.NS', 'BAJAJ-AUTO.NS', 'DMART.NS', 'BRITANNIA.NS', 'DRREDDY.NS',\n",
        "               'ASIANPAINT.NS', 'EICHERMOT.NS', 'BAJFINANCE.NS', 'BANDHANBNK.NS',\n",
        "               'FEDERALBNK.NS', 'BHARTIARTL.NS']\n",
        "\n",
        "print('entries:', list(set(new_stars) - set(curr_stars)))\n",
        "print('exits:', list(set(curr_stars) - set(new_stars)))"
      ],
      "metadata": {
        "execution": {
          "iopub.status.busy": "2023-05-01T07:00:03.599573Z",
          "iopub.execute_input": "2023-05-01T07:00:03.600127Z",
          "iopub.status.idle": "2023-05-01T07:00:03.611790Z",
          "shell.execute_reply.started": "2023-05-01T07:00:03.600083Z",
          "shell.execute_reply": "2023-05-01T07:00:03.610458Z"
        },
        "trusted": true,
        "id": "rwCMdLSo76Lm"
      },
      "execution_count": null,
      "outputs": []
    },
    {
      "cell_type": "code",
      "source": [
        "# update Nifty features\n",
        "'''\n",
        "stock = 'INFY'\n",
        "column = 'Conviction'\n",
        "value = 'H'\n",
        "nifty100_df.loc[nifty100_df['Symbol'] == stock, column] = value\n",
        "\n",
        "mypf.to_csv('/kaggle/input/nifty100/Nifty100Features.csv',index=False)\n",
        "'''\n",
        "mypf['Conviction'].value_counts()"
      ],
      "metadata": {
        "execution": {
          "iopub.status.busy": "2023-05-01T07:00:03.613297Z",
          "iopub.execute_input": "2023-05-01T07:00:03.613984Z",
          "iopub.status.idle": "2023-05-01T07:00:03.629937Z",
          "shell.execute_reply.started": "2023-05-01T07:00:03.613947Z",
          "shell.execute_reply": "2023-05-01T07:00:03.628607Z"
        },
        "trusted": true,
        "id": "n3J8cfCz76Lm"
      },
      "execution_count": null,
      "outputs": []
    },
    {
      "cell_type": "code",
      "source": [
        "# stocks in portfolio\n",
        "mypf['InPortfolio'].value_counts()"
      ],
      "metadata": {
        "id": "7f25878f",
        "execution": {
          "iopub.status.busy": "2023-05-01T07:00:03.633228Z",
          "iopub.execute_input": "2023-05-01T07:00:03.633988Z",
          "iopub.status.idle": "2023-05-01T07:00:03.643659Z",
          "shell.execute_reply.started": "2023-05-01T07:00:03.633946Z",
          "shell.execute_reply": "2023-05-01T07:00:03.642727Z"
        },
        "trusted": true
      },
      "execution_count": null,
      "outputs": []
    },
    {
      "cell_type": "code",
      "source": [
        "# import libraries \n",
        "\n",
        "%matplotlib inline\n",
        "import numpy as np \n",
        "import pandas as pd\n",
        "import matplotlib.pyplot as plt\n",
        "import datetime\n",
        "from tabulate import tabulate\n",
        "import warnings\n",
        "warnings.filterwarnings('ignore')\n",
        "import pandas_datareader.data as web\n",
        "import yfinance as yfin\n",
        "#import talib \n",
        "yfin.pdr_override()\n",
        "import pandas_ta as ta"
      ],
      "metadata": {
        "id": "881add47",
        "execution": {
          "iopub.status.busy": "2023-05-01T07:00:03.644977Z",
          "iopub.execute_input": "2023-05-01T07:00:03.645291Z",
          "iopub.status.idle": "2023-05-01T07:00:04.300193Z",
          "shell.execute_reply.started": "2023-05-01T07:00:03.645261Z",
          "shell.execute_reply": "2023-05-01T07:00:04.298908Z"
        },
        "trusted": true
      },
      "execution_count": null,
      "outputs": []
    },
    {
      "cell_type": "code",
      "source": [
        "# fetch current PE\n",
        "import requests\n",
        "from bs4 import BeautifulSoup\n",
        "\n",
        "def get_current_pe(stock_name):\n",
        "\n",
        "  link_blueprint = \"https://www.screener.in/company/\"\n",
        "\n",
        "  actual_link = link_blueprint + stock_name.upper()  + \"/consolidated/\"\n",
        "\n",
        "\n",
        "  page = requests.get(actual_link)\n",
        "  #print(actual_link)\n",
        "  link_soup = BeautifulSoup(page.content, 'html.parser')\n",
        "\n",
        "  test_list = link_soup.find(id=\"top\").text.replace(\"  \", \"\").split('\\n')\n",
        "\n",
        "  while(\"\" in test_list) :\n",
        "      test_list.remove(\"\")\n",
        "  while(\"\\r\" in test_list) :\n",
        "      test_list.remove(\"\\r\")        \n",
        "  while(\" \\r\" in test_list) :\n",
        "      test_list.remove(\" \\r\")\n",
        "\n",
        "  try:\n",
        "    current_pe = float(test_list[test_list.index('Stock P/E')+1:test_list.index('Stock P/E')+2][0])\n",
        "  except ValueError as ve:\n",
        "    current_pe = 1000 \n",
        "\n",
        "  return current_pe\n"
      ],
      "metadata": {
        "id": "tOiGXj23jrwH",
        "execution": {
          "iopub.status.busy": "2023-05-01T07:00:04.301903Z",
          "iopub.execute_input": "2023-05-01T07:00:04.302645Z",
          "iopub.status.idle": "2023-05-01T07:00:04.312721Z",
          "shell.execute_reply.started": "2023-05-01T07:00:04.302595Z",
          "shell.execute_reply": "2023-05-01T07:00:04.311470Z"
        },
        "trusted": true
      },
      "execution_count": null,
      "outputs": []
    },
    {
      "cell_type": "code",
      "source": [
        "# function to compute stock attributes\n",
        "\n",
        "def stock_prec_dev(stock_symbol):\n",
        "    #stock_symbol = 'ULTRACEMCO.NS'\n",
        "    short_window = 20 \n",
        "    mid_window = 50\n",
        "    long_window = 150\n",
        "    moving_avg = 'SMA'\n",
        "    \n",
        "    # import the closing price data of the stock for the aforementioned period of time in Pandas dataframe\n",
        "    start = datetime.datetime(*map(int, start_date.split('-')))\n",
        "    end = datetime.datetime(*map(int, end_date.split('-'))) \n",
        "    stock_df = yfin.Ticker(stock_symbol).history(period='3y')[map(str.title, ['open', 'close', 'low', 'high', 'volume'])]\n",
        "    stock_df = stock_df[(stock_df.index <= end_date) & (stock_df.index >= start_date)]\n",
        "    #stock_df = pd.DataFrame(stock_df) # convert Series object to dataframe \n",
        "    #stock_df.columns = {'Close Price'} # assign new colun name\n",
        "    stock_df.dropna(axis = 0, inplace = True) # remove any null rows \n",
        "\n",
        "    # column names for long and short moving average columns\n",
        "    short_window_col = str(short_window) + '_' + moving_avg\n",
        "    mid_window_col = str(mid_window) + '_' + moving_avg\n",
        "    long_window_col = str(long_window) + '_' + moving_avg  \n",
        "\n",
        "    #print(stock_df)\n",
        "\n",
        "    # Create short exponential moving average column\n",
        "    stock_df[short_window_col] = round(stock_df['Close'].rolling(window = short_window, min_periods = 1).mean(),0)\n",
        "\n",
        "    stock_df[mid_window_col] = round(stock_df['Close'].rolling(window = mid_window, min_periods = 1).mean(),0)     \n",
        "\n",
        "    #stock_df['RSI'] = round(talib.RSI(stock_df['Close Price'], timeperiod=14),0)\n",
        "\n",
        "    # Create a long exponential moving average column\n",
        "    stock_df[long_window_col] = round(stock_df['Close'].rolling(window = long_window, min_periods = 1).mean(),0)\n",
        "    stock_df['Stock'] = stock_symbol\n",
        "    stock_df['Dev%_150'] = round((stock_df['Close'] - stock_df['150_SMA'])*100/stock_df['150_SMA'],2)\n",
        "    stock_df['150_SMA_Lag10'] = stock_df['150_SMA'].shift(10)\n",
        "    stock_df['Slope%_150'] = round((stock_df['150_SMA'] - stock_df['150_SMA_Lag10'])*100/stock_df['150_SMA'],2)\n",
        "    stock_df['50_SMA_Lag5'] = stock_df['50_SMA'].shift(5)\n",
        "    stock_df['Slope%_50'] = round((stock_df['50_SMA'] - stock_df['50_SMA_Lag5'])*100/stock_df['50_SMA'],2)\n",
        "    \n",
        "    stock_df.ta.rsi(append=True)\n",
        "    stock_df.rename(columns={'RSI_14':'RSI'}, inplace=True)\n",
        "    stock_df['Close'] = round(stock_df['Close'],0)    \n",
        "    stock_df['RSI'] = round(stock_df['RSI'],0) \n",
        "    stock_df['Max'] = round(max(stock_df['Close']),0)\n",
        "    stock_df['Min'] = round(min(stock_df['Close']),0)   \n",
        "    stock_df['Discount%'] = round((stock_df['Max']-stock_df['Close'])*100/(stock_df['Max']-stock_df['Min']),2)\n",
        "    stock_df['Upside%ATH'] = round((stock_df['Max']-stock_df['Close'])*100/(stock_df['Close']),0)\n",
        "    stock_df.drop(['Open', 'Low', 'High', 'Volume','20_SMA','50_SMA','150_SMA','150_SMA_Lag10','50_SMA_Lag5'\n",
        "                   ], axis=1, inplace=True)   \n",
        "    \n",
        "    return stock_df\n",
        "\n",
        "df_prec_dev = pd.DataFrame()\n",
        "\n",
        "#tmp = stock_prec_dev('ULTRACEMCO.NS')\n",
        "#df_perform = df_perform.append(tmp)\n",
        "for stock_id in stock_ids:\n",
        "    #print(stock_id)\n",
        "    #current_pe = get_current_pe(stock_id)\n",
        "    stock_id = stock_id.upper() + '.NS'    \n",
        "    tmp = stock_prec_dev(stock_id)\n",
        "    tmp = tmp.reset_index()\n",
        "    tmp = tmp.tail(1)\n",
        "    tmp['Avg_Cost'] = mypf[(mypf['Symbol']+'.NS') == stock_id.upper()]['AvgCost'].values[0]\n",
        "    tmp['Shares'] = mypf[(mypf['Symbol']+'.NS') == stock_id.upper()]['Shares'].values[0]\n",
        "    tmp['Med_PE'] = mypf[(mypf['Symbol']+'.NS') == stock_id.upper()]['MedianPE'].values[0]    \n",
        "    #tmp['Curr_PE'] = current_pe\n",
        "    tmp['EstmtFlag'] = mypf[(mypf['Symbol']+'.NS') == stock_id.upper()]['EstmtFlag'].values[0] \n",
        "    tmp['DuraFlag'] = mypf[(mypf['Symbol']+'.NS') == stock_id.upper()]['DuraFlag'].values[0]   \n",
        "    tmp['Conviction'] = mypf[(mypf['Symbol']+'.NS') == stock_id.upper()]['Conviction'].values[0]      \n",
        "    df_prec_dev = df_prec_dev.append(tmp)"
      ],
      "metadata": {
        "id": "c7a21e27",
        "execution": {
          "iopub.status.busy": "2023-05-01T07:00:04.314381Z",
          "iopub.execute_input": "2023-05-01T07:00:04.314840Z",
          "iopub.status.idle": "2023-05-01T07:00:28.054356Z",
          "shell.execute_reply.started": "2023-05-01T07:00:04.314807Z",
          "shell.execute_reply": "2023-05-01T07:00:28.053223Z"
        },
        "trusted": true
      },
      "execution_count": null,
      "outputs": []
    },
    {
      "cell_type": "code",
      "source": [
        "# nifty in last 5 weeks\n",
        "stock_prec_dev('^NSEI')[-21::5]"
      ],
      "metadata": {
        "id": "281e13a9",
        "execution": {
          "iopub.status.busy": "2023-05-01T07:00:28.059551Z",
          "iopub.execute_input": "2023-05-01T07:00:28.059897Z",
          "iopub.status.idle": "2023-05-01T07:00:28.247231Z",
          "shell.execute_reply.started": "2023-05-01T07:00:28.059863Z",
          "shell.execute_reply": "2023-05-01T07:00:28.245696Z"
        },
        "trusted": true
      },
      "execution_count": null,
      "outputs": []
    },
    {
      "cell_type": "code",
      "source": [
        "stock_ids = df_prec_dev['Stock'].values\n",
        "df_prec_dev.reset_index(drop=True, inplace=True)\n",
        "df_prec_dev.drop(['Date'], axis=1, inplace=True)\n",
        "\n",
        "mypf['Stock'] = mypf['Symbol'] + '.NS'\n",
        "df_prec_dev.drop(['Med_PE'], axis=1, inplace=True)"
      ],
      "metadata": {
        "id": "aeed789f",
        "execution": {
          "iopub.status.busy": "2023-05-01T07:00:28.248826Z",
          "iopub.execute_input": "2023-05-01T07:00:28.249268Z",
          "iopub.status.idle": "2023-05-01T07:00:28.259278Z",
          "shell.execute_reply.started": "2023-05-01T07:00:28.249232Z",
          "shell.execute_reply": "2023-05-01T07:00:28.258136Z"
        },
        "trusted": true
      },
      "execution_count": null,
      "outputs": []
    },
    {
      "cell_type": "code",
      "source": [
        "# portfolio stocks\n",
        "\n",
        "tmp_df = df_prec_dev[df_prec_dev['Stock'].isin(mypf[mypf['InPortfolio'] == 1].Stock.values)]\n",
        "print('qualified stocks: '+str(tmp_df.shape[0]))\n",
        "tmp_df.sort_values(by = 'Upside%ATH', ascending=False)"
      ],
      "metadata": {
        "id": "LS3VSorDf__r",
        "execution": {
          "iopub.status.busy": "2023-05-01T07:00:28.260671Z",
          "iopub.execute_input": "2023-05-01T07:00:28.261026Z",
          "iopub.status.idle": "2023-05-01T07:00:28.306935Z",
          "shell.execute_reply.started": "2023-05-01T07:00:28.260993Z",
          "shell.execute_reply": "2023-05-01T07:00:28.305341Z"
        },
        "trusted": true
      },
      "execution_count": null,
      "outputs": []
    },
    {
      "cell_type": "code",
      "source": [
        "tmp_df.sort_values(by = 'Slope%_50', ascending=False)"
      ],
      "metadata": {
        "execution": {
          "iopub.status.busy": "2023-05-01T07:00:28.308432Z",
          "iopub.execute_input": "2023-05-01T07:00:28.308798Z",
          "iopub.status.idle": "2023-05-01T07:00:28.346891Z",
          "shell.execute_reply.started": "2023-05-01T07:00:28.308763Z",
          "shell.execute_reply": "2023-05-01T07:00:28.345680Z"
        },
        "trusted": true,
        "id": "nzuv1BcY76Lo"
      },
      "execution_count": null,
      "outputs": []
    },
    {
      "cell_type": "code",
      "source": [
        "df_prec_dev.drop([ 'Avg_Cost', 'Shares'], axis=1, inplace=True)"
      ],
      "metadata": {
        "execution": {
          "iopub.status.busy": "2023-05-01T07:00:28.349737Z",
          "iopub.execute_input": "2023-05-01T07:00:28.350229Z",
          "iopub.status.idle": "2023-05-01T07:00:28.356508Z",
          "shell.execute_reply.started": "2023-05-01T07:00:28.350180Z",
          "shell.execute_reply": "2023-05-01T07:00:28.355525Z"
        },
        "trusted": true,
        "id": "rJ__xYJp76Lo"
      },
      "execution_count": null,
      "outputs": []
    },
    {
      "cell_type": "code",
      "source": [
        "# all time high sales and profit TTM\n",
        "\n",
        "star_stocks = new_stars\n",
        "\n",
        "tmp_df = df_prec_dev[df_prec_dev['Stock'].isin(star_stocks)]\n",
        "tmp_df = tmp_df[~tmp_df['Stock'].isin(mypf[mypf['InPortfolio'] == 1].Stock.values)]\n",
        "tmp_df = tmp_df[(tmp_df['EstmtFlag'] == 1) & (tmp_df['DuraFlag'] != -1)]\n",
        "#tmp_df = tmp_df[(tmp_df['Upside%ATH'] >= 25) & (tmp_df['Discount%'] >= 60)]\n",
        "tmp_df = tmp_df[(tmp_df['Upside%ATH'] >= 20)]\n",
        "print('qualified stocks: '+str(tmp_df.shape[0]))\n",
        "tmp_df.sort_values(by = 'Upside%ATH', ascending=False)"
      ],
      "metadata": {
        "execution": {
          "iopub.status.busy": "2023-05-01T07:00:28.357926Z",
          "iopub.execute_input": "2023-05-01T07:00:28.358530Z",
          "iopub.status.idle": "2023-05-01T07:00:28.396016Z",
          "shell.execute_reply.started": "2023-05-01T07:00:28.358483Z",
          "shell.execute_reply": "2023-05-01T07:00:28.394873Z"
        },
        "trusted": true,
        "id": "qo6DMOac76Lo"
      },
      "execution_count": null,
      "outputs": []
    },
    {
      "cell_type": "code",
      "source": [
        "# star stocks ordered based on slope\n",
        "tmp_df.sort_values(by = 'Slope%_50', ascending=False)"
      ],
      "metadata": {
        "execution": {
          "iopub.status.busy": "2023-05-01T07:00:28.397522Z",
          "iopub.execute_input": "2023-05-01T07:00:28.397886Z",
          "iopub.status.idle": "2023-05-01T07:00:28.425718Z",
          "shell.execute_reply.started": "2023-05-01T07:00:28.397854Z",
          "shell.execute_reply": "2023-05-01T07:00:28.424444Z"
        },
        "trusted": true,
        "id": "TNrZDAKn76Lo"
      },
      "execution_count": null,
      "outputs": []
    },
    {
      "cell_type": "code",
      "source": [
        "# stocks excluded from all time high\n",
        "\n",
        "excluded_stocks = ['ACC.NS','AMBUJACEM.NS','CADILAHC.NS','GILLETTE.NS','NESTLEIND.NS','PGHH.NS','SIEMENS.NS']\n",
        "\n",
        "tmp_df = df_prec_dev[df_prec_dev['Stock'].isin(excluded_stocks)]\n",
        "tmp_df = tmp_df[~tmp_df['Stock'].isin(mypf[mypf['InPortfolio'] == 1].Stock.values)]\n",
        "#tmp_df = tmp_df[(tmp_df['EstmtFlag'] == 1) & (tmp_df['DuraFlag'] != -1)]\n",
        "#tmp_df = tmp_df[(tmp_df['Upside%ATH'] >= 25) & (tmp_df['Discount%'] >= 60)]\n",
        "#tmp_df = tmp_df[(tmp_df['Upside%ATH'] >= 20)]\n",
        "print('qualified stocks: '+str(tmp_df.shape[0]))\n",
        "tmp_df.sort_values(by = 'Upside%ATH', ascending=False)"
      ],
      "metadata": {
        "execution": {
          "iopub.status.busy": "2023-05-01T07:00:28.427637Z",
          "iopub.execute_input": "2023-05-01T07:00:28.428423Z",
          "iopub.status.idle": "2023-05-01T07:00:28.460893Z",
          "shell.execute_reply.started": "2023-05-01T07:00:28.428349Z",
          "shell.execute_reply": "2023-05-01T07:00:28.459679Z"
        },
        "trusted": true,
        "id": "K0lch5Jj76Lp"
      },
      "execution_count": null,
      "outputs": []
    },
    {
      "cell_type": "code",
      "source": [
        "# prospects with heavy upside\n",
        "tmp_df = df_prec_dev[~df_prec_dev['Stock'].isin(mypf[mypf['InPortfolio'] == 1].Stock.values)]\n",
        "tmp_df = tmp_df[(tmp_df['EstmtFlag'] == 1) & (tmp_df['DuraFlag'] == 1)]\n",
        "tmp_df = tmp_df[tmp_df['Upside%ATH'] > 40]\n",
        "print('qualified stocks: '+str(tmp_df.shape[0]))\n",
        "tmp_df.sort_values(by = 'Upside%ATH', ascending=False)"
      ],
      "metadata": {
        "id": "vTne-lM3-H7U",
        "execution": {
          "iopub.status.busy": "2023-05-01T07:00:28.462832Z",
          "iopub.execute_input": "2023-05-01T07:00:28.463299Z",
          "iopub.status.idle": "2023-05-01T07:00:28.492962Z",
          "shell.execute_reply.started": "2023-05-01T07:00:28.463249Z",
          "shell.execute_reply": "2023-05-01T07:00:28.491925Z"
        },
        "trusted": true
      },
      "execution_count": null,
      "outputs": []
    },
    {
      "cell_type": "code",
      "source": [
        "# prospects near 52W low\n",
        "tmp_df = df_prec_dev[~df_prec_dev['Stock'].isin(mypf[mypf['InPortfolio'] == 1].Stock.values)]\n",
        "tmp_df = tmp_df[(tmp_df['EstmtFlag'] == 1) & (tmp_df['DuraFlag'] == 1)]\n",
        "tmp_df = tmp_df[tmp_df['Discount%'] > 60]\n",
        "print('qualified stocks: '+str(tmp_df.shape[0]))\n",
        "tmp_df.sort_values(by = 'Discount%', ascending=False)"
      ],
      "metadata": {
        "id": "ohlm9Ra5wBad",
        "execution": {
          "iopub.status.busy": "2023-05-01T07:00:28.494446Z",
          "iopub.execute_input": "2023-05-01T07:00:28.494821Z",
          "iopub.status.idle": "2023-05-01T07:00:28.524165Z",
          "shell.execute_reply.started": "2023-05-01T07:00:28.494784Z",
          "shell.execute_reply": "2023-05-01T07:00:28.522925Z"
        },
        "trusted": true
      },
      "execution_count": null,
      "outputs": []
    },
    {
      "cell_type": "code",
      "source": [
        "# prospects near 52W high\n",
        "tmp_df = df_prec_dev[~df_prec_dev['Stock'].isin(mypf[mypf['InPortfolio'] == 1].Stock.values)]\n",
        "tmp_df = tmp_df[(tmp_df['EstmtFlag'] == 1) & (tmp_df['DuraFlag'] == 1)]\n",
        "tmp_df = tmp_df[tmp_df['Discount%'] < 15]\n",
        "print('qualified stocks: '+str(tmp_df.shape[0]))\n",
        "tmp_df.sort_values(by = 'Discount%', ascending=True)"
      ],
      "metadata": {
        "id": "Eo5TXBeynJXT",
        "execution": {
          "iopub.status.busy": "2023-05-01T07:00:28.525782Z",
          "iopub.execute_input": "2023-05-01T07:00:28.526178Z",
          "iopub.status.idle": "2023-05-01T07:00:28.560181Z",
          "shell.execute_reply.started": "2023-05-01T07:00:28.526140Z",
          "shell.execute_reply": "2023-05-01T07:00:28.558900Z"
        },
        "trusted": true
      },
      "execution_count": null,
      "outputs": []
    },
    {
      "cell_type": "code",
      "source": [
        "# prospects in bull run\n",
        "tmp_df = df_prec_dev[~df_prec_dev['Stock'].isin(mypf[mypf['InPortfolio'] == 1].Stock.values)]\n",
        "tmp_df = tmp_df[(tmp_df['EstmtFlag'] == 1) & (tmp_df['DuraFlag'] == 1)]\n",
        "tmp_df = tmp_df[(tmp_df['Slope%_150'] > 0) & (tmp_df['Slope%_50'] > tmp_df['Slope%_150'])]\n",
        "print('qualified stocks: '+str(tmp_df.shape[0]))\n",
        "tmp_df.sort_values(by = 'Slope%_50', ascending=False)"
      ],
      "metadata": {
        "id": "DB2rF3bRNRdY",
        "execution": {
          "iopub.status.busy": "2023-05-01T07:00:28.561516Z",
          "iopub.execute_input": "2023-05-01T07:00:28.561860Z",
          "iopub.status.idle": "2023-05-01T07:00:28.590904Z",
          "shell.execute_reply.started": "2023-05-01T07:00:28.561827Z",
          "shell.execute_reply": "2023-05-01T07:00:28.589607Z"
        },
        "trusted": true
      },
      "execution_count": null,
      "outputs": []
    },
    {
      "cell_type": "code",
      "source": [
        "# prospects about to turn around\n",
        "tmp_df = df_prec_dev[~df_prec_dev['Stock'].isin(mypf[mypf['InPortfolio'] == 1].Stock.values)]\n",
        "tmp_df = tmp_df[(tmp_df['EstmtFlag'] == 1) & (tmp_df['DuraFlag'] == 1)]\n",
        "tmp_df = tmp_df[(tmp_df['Slope%_150'] < 0) & (tmp_df['Slope%_50'] > tmp_df['Slope%_150'])]\n",
        "print('qualified stocks: '+str(tmp_df.shape[0]))\n",
        "tmp_df.sort_values(by = 'Slope%_50', ascending=False)"
      ],
      "metadata": {
        "id": "BfUObOLTkKOg",
        "execution": {
          "iopub.status.busy": "2023-05-01T07:00:28.592647Z",
          "iopub.execute_input": "2023-05-01T07:00:28.593091Z",
          "iopub.status.idle": "2023-05-01T07:00:28.626758Z",
          "shell.execute_reply.started": "2023-05-01T07:00:28.593042Z",
          "shell.execute_reply": "2023-05-01T07:00:28.625780Z"
        },
        "trusted": true
      },
      "execution_count": null,
      "outputs": []
    },
    {
      "cell_type": "code",
      "source": [
        "# cross-check the features\n",
        "tmp_df = df_prec_dev[~df_prec_dev['Stock'].isin(mypf[mypf['InPortfolio'] == 1].Stock.values)]\n",
        "tmp_df = tmp_df[(tmp_df['EstmtFlag'] != 1) | (tmp_df['DuraFlag'] != 1)]\n",
        "tmp_df = tmp_df[tmp_df['Upside%ATH'] > 40]\n",
        "print('qualified stocks: '+str(tmp_df.shape[0]))\n",
        "tmp_df.sort_values(by = 'Upside%ATH', ascending=False)"
      ],
      "metadata": {
        "id": "VXgMb3OqRY6_",
        "execution": {
          "iopub.status.busy": "2023-05-01T07:00:28.628426Z",
          "iopub.execute_input": "2023-05-01T07:00:28.628758Z",
          "iopub.status.idle": "2023-05-01T07:00:28.691670Z",
          "shell.execute_reply.started": "2023-05-01T07:00:28.628728Z",
          "shell.execute_reply": "2023-05-01T07:00:28.690762Z"
        },
        "trusted": true
      },
      "execution_count": null,
      "outputs": []
    },
    {
      "cell_type": "code",
      "source": [
        "stock_id = 'MUTHOOTFIN.NS'\n",
        "df_prec_dev[df_prec_dev['Stock'] == stock_id]"
      ],
      "metadata": {
        "execution": {
          "iopub.status.busy": "2023-05-01T07:02:47.742145Z",
          "iopub.execute_input": "2023-05-01T07:02:47.742682Z",
          "iopub.status.idle": "2023-05-01T07:02:47.764904Z",
          "shell.execute_reply.started": "2023-05-01T07:02:47.742638Z",
          "shell.execute_reply": "2023-05-01T07:02:47.763579Z"
        },
        "trusted": true,
        "id": "CANEDB0C76Lp"
      },
      "execution_count": null,
      "outputs": []
    }
  ]
}