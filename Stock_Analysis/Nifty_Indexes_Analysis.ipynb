{
  "metadata": {
    "kernelspec": {
      "language": "python",
      "display_name": "Python 3",
      "name": "python3"
    },
    "language_info": {
      "name": "python",
      "version": "3.7.12",
      "mimetype": "text/x-python",
      "codemirror_mode": {
        "name": "ipython",
        "version": 3
      },
      "pygments_lexer": "ipython3",
      "nbconvert_exporter": "python",
      "file_extension": ".py"
    },
    "colab": {
      "provenance": [],
      "include_colab_link": true
    }
  },
  "nbformat_minor": 0,
  "nbformat": 4,
  "cells": [
    {
      "cell_type": "markdown",
      "metadata": {
        "id": "view-in-github",
        "colab_type": "text"
      },
      "source": [
        "<a href=\"https://colab.research.google.com/github/ankit-rathi/Data-Science-with-Python/blob/master/Stock_Analysis/Nifty_Indexes_Analysis.ipynb\" target=\"_parent\"><img src=\"https://colab.research.google.com/assets/colab-badge.svg\" alt=\"Open In Colab\"/></a>"
      ]
    },
    {
      "cell_type": "code",
      "source": [
        "# install libraries\n",
        "!pip install yfinance\n",
        "!pip install pandas-ta\n",
        "#!pip install talib-binary"
      ],
      "metadata": {
        "execution": {
          "iopub.status.busy": "2023-04-29T01:38:48.610231Z",
          "iopub.execute_input": "2023-04-29T01:38:48.610554Z",
          "iopub.status.idle": "2023-04-29T01:39:11.855015Z",
          "shell.execute_reply.started": "2023-04-29T01:38:48.610521Z",
          "shell.execute_reply": "2023-04-29T01:39:11.853344Z"
        },
        "trusted": true,
        "id": "0BX9lLCL8Yw0",
        "outputId": "cb40eb01-b197-4b82-910a-5a20723512f1",
        "colab": {
          "base_uri": "https://localhost:8080/"
        }
      },
      "execution_count": 1,
      "outputs": [
        {
          "output_type": "stream",
          "name": "stdout",
          "text": [
            "Looking in indexes: https://pypi.org/simple, https://us-python.pkg.dev/colab-wheels/public/simple/\n",
            "Requirement already satisfied: yfinance in /usr/local/lib/python3.10/dist-packages (0.2.18)\n",
            "Requirement already satisfied: requests>=2.26 in /usr/local/lib/python3.10/dist-packages (from yfinance) (2.27.1)\n",
            "Requirement already satisfied: pandas>=1.3.0 in /usr/local/lib/python3.10/dist-packages (from yfinance) (1.5.3)\n",
            "Requirement already satisfied: pytz>=2022.5 in /usr/local/lib/python3.10/dist-packages (from yfinance) (2022.7.1)\n",
            "Requirement already satisfied: numpy>=1.16.5 in /usr/local/lib/python3.10/dist-packages (from yfinance) (1.22.4)\n",
            "Requirement already satisfied: lxml>=4.9.1 in /usr/local/lib/python3.10/dist-packages (from yfinance) (4.9.2)\n",
            "Requirement already satisfied: appdirs>=1.4.4 in /usr/local/lib/python3.10/dist-packages (from yfinance) (1.4.4)\n",
            "Requirement already satisfied: html5lib>=1.1 in /usr/local/lib/python3.10/dist-packages (from yfinance) (1.1)\n",
            "Requirement already satisfied: multitasking>=0.0.7 in /usr/local/lib/python3.10/dist-packages (from yfinance) (0.0.11)\n",
            "Requirement already satisfied: frozendict>=2.3.4 in /usr/local/lib/python3.10/dist-packages (from yfinance) (2.3.7)\n",
            "Requirement already satisfied: cryptography>=3.3.2 in /usr/local/lib/python3.10/dist-packages (from yfinance) (40.0.2)\n",
            "Requirement already satisfied: beautifulsoup4>=4.11.1 in /usr/local/lib/python3.10/dist-packages (from yfinance) (4.11.2)\n",
            "Requirement already satisfied: soupsieve>1.2 in /usr/local/lib/python3.10/dist-packages (from beautifulsoup4>=4.11.1->yfinance) (2.4.1)\n",
            "Requirement already satisfied: cffi>=1.12 in /usr/local/lib/python3.10/dist-packages (from cryptography>=3.3.2->yfinance) (1.15.1)\n",
            "Requirement already satisfied: six>=1.9 in /usr/local/lib/python3.10/dist-packages (from html5lib>=1.1->yfinance) (1.16.0)\n",
            "Requirement already satisfied: webencodings in /usr/local/lib/python3.10/dist-packages (from html5lib>=1.1->yfinance) (0.5.1)\n",
            "Requirement already satisfied: python-dateutil>=2.8.1 in /usr/local/lib/python3.10/dist-packages (from pandas>=1.3.0->yfinance) (2.8.2)\n",
            "Requirement already satisfied: certifi>=2017.4.17 in /usr/local/lib/python3.10/dist-packages (from requests>=2.26->yfinance) (2022.12.7)\n",
            "Requirement already satisfied: urllib3<1.27,>=1.21.1 in /usr/local/lib/python3.10/dist-packages (from requests>=2.26->yfinance) (1.26.15)\n",
            "Requirement already satisfied: charset-normalizer~=2.0.0 in /usr/local/lib/python3.10/dist-packages (from requests>=2.26->yfinance) (2.0.12)\n",
            "Requirement already satisfied: idna<4,>=2.5 in /usr/local/lib/python3.10/dist-packages (from requests>=2.26->yfinance) (3.4)\n",
            "Requirement already satisfied: pycparser in /usr/local/lib/python3.10/dist-packages (from cffi>=1.12->cryptography>=3.3.2->yfinance) (2.21)\n",
            "Looking in indexes: https://pypi.org/simple, https://us-python.pkg.dev/colab-wheels/public/simple/\n",
            "Requirement already satisfied: pandas-ta in /usr/local/lib/python3.10/dist-packages (0.3.14b0)\n",
            "Requirement already satisfied: pandas in /usr/local/lib/python3.10/dist-packages (from pandas-ta) (1.5.3)\n",
            "Requirement already satisfied: python-dateutil>=2.8.1 in /usr/local/lib/python3.10/dist-packages (from pandas->pandas-ta) (2.8.2)\n",
            "Requirement already satisfied: pytz>=2020.1 in /usr/local/lib/python3.10/dist-packages (from pandas->pandas-ta) (2022.7.1)\n",
            "Requirement already satisfied: numpy>=1.21.0 in /usr/local/lib/python3.10/dist-packages (from pandas->pandas-ta) (1.22.4)\n",
            "Requirement already satisfied: six>=1.5 in /usr/local/lib/python3.10/dist-packages (from python-dateutil>=2.8.1->pandas->pandas-ta) (1.16.0)\n"
          ]
        }
      ]
    },
    {
      "cell_type": "code",
      "source": [
        "import yfinance as yfin\n",
        "import pandas as pd\n",
        "\n",
        "df = yfin.Ticker('^NSEI').history(period='18mo', interval = \"1mo\")[map(str.title, ['open', 'close', 'low', 'high', 'volume'])]"
      ],
      "metadata": {
        "execution": {
          "iopub.status.busy": "2023-04-29T01:39:11.859781Z",
          "iopub.execute_input": "2023-04-29T01:39:11.860214Z",
          "iopub.status.idle": "2023-04-29T01:39:11.946598Z",
          "shell.execute_reply.started": "2023-04-29T01:39:11.860175Z",
          "shell.execute_reply": "2023-04-29T01:39:11.945305Z"
        },
        "trusted": true,
        "id": "HqiymetO8Yw2"
      },
      "execution_count": 2,
      "outputs": []
    },
    {
      "cell_type": "code",
      "source": [
        "(df['Close'].mean()-16945)*100/df['Close'].mean()"
      ],
      "metadata": {
        "execution": {
          "iopub.status.busy": "2023-04-29T01:39:11.948672Z",
          "iopub.execute_input": "2023-04-29T01:39:11.949484Z",
          "iopub.status.idle": "2023-04-29T01:39:11.958710Z",
          "shell.execute_reply.started": "2023-04-29T01:39:11.949429Z",
          "shell.execute_reply": "2023-04-29T01:39:11.957882Z"
        },
        "trusted": true,
        "id": "v3oAljlI8Yw2",
        "outputId": "edb00234-8e68-4d7a-e288-f91c7a00ba23",
        "colab": {
          "base_uri": "https://localhost:8080/"
        }
      },
      "execution_count": 3,
      "outputs": [
        {
          "output_type": "execute_result",
          "data": {
            "text/plain": [
              "2.453517792414089"
            ]
          },
          "metadata": {},
          "execution_count": 3
        }
      ]
    },
    {
      "cell_type": "code",
      "source": [
        "df['Close'].mean()"
      ],
      "metadata": {
        "execution": {
          "iopub.status.busy": "2023-04-29T01:39:11.960008Z",
          "iopub.execute_input": "2023-04-29T01:39:11.960778Z",
          "iopub.status.idle": "2023-04-29T01:39:11.972692Z",
          "shell.execute_reply.started": "2023-04-29T01:39:11.960743Z",
          "shell.execute_reply": "2023-04-29T01:39:11.971430Z"
        },
        "trusted": true,
        "id": "pDgGk0BR8Yw2",
        "outputId": "2cc8d24b-e38a-46d9-e2da-e6d7154c5599",
        "colab": {
          "base_uri": "https://localhost:8080/"
        }
      },
      "execution_count": 4,
      "outputs": [
        {
          "output_type": "execute_result",
          "data": {
            "text/plain": [
              "17371.205620659723"
            ]
          },
          "metadata": {},
          "execution_count": 4
        }
      ]
    },
    {
      "cell_type": "code",
      "source": [
        "df_bees = pd.read_csv('https://raw.githubusercontent.com/ankit-rathi/Data-Science-with-Python/master/Stock_Analysis/data/BEES_Scrips.csv')\n",
        "\n",
        "bees_ids = df_bees['Symbol'].unique()\n",
        "\n",
        "bees_ids.sort()\n",
        "bees_ids"
      ],
      "metadata": {
        "execution": {
          "iopub.status.busy": "2023-04-29T01:39:11.974139Z",
          "iopub.execute_input": "2023-04-29T01:39:11.974449Z",
          "iopub.status.idle": "2023-04-29T01:39:12.028355Z",
          "shell.execute_reply.started": "2023-04-29T01:39:11.974419Z",
          "shell.execute_reply": "2023-04-29T01:39:12.026890Z"
        },
        "trusted": true,
        "id": "MQGG4BE68Yw2",
        "outputId": "9f89b25a-9589-4b25-a1a6-7b6717fcf781",
        "colab": {
          "base_uri": "https://localhost:8080/"
        }
      },
      "execution_count": 5,
      "outputs": [
        {
          "output_type": "execute_result",
          "data": {
            "text/plain": [
              "array(['AUTOBEES', 'BANKBEES', 'CONSUMBEES', 'INFRABEES', 'ITBEES',\n",
              "       'JUNIORBEES', 'MID150BEES', 'NIFTYBEES', 'PHARMABEES'],\n",
              "      dtype=object)"
            ]
          },
          "metadata": {},
          "execution_count": 5
        }
      ]
    },
    {
      "cell_type": "code",
      "source": [
        "df_bees_stats = pd.DataFrame()\n",
        "\n",
        "for bees_id in bees_ids:\n",
        "\n",
        "  close_price = round(yfin.Ticker(bees_id+'.NS').history(period='1y')[map(str.title, ['open', 'close', 'low', 'high', 'volume'])].tail(1)['Close'].values[0],1)\n",
        "  low_52w = df_bees[(df_bees['Symbol']) == bees_id.upper()]['52WLow'].values[0]\n",
        "  high_52w = df_bees[(df_bees['Symbol']) == bees_id.upper()]['52WHigh'].values[0]\n",
        "\n",
        "  tmp = pd.DataFrame([bees_id, close_price, low_52w, high_52w]).T\n",
        "  df_bees_stats = pd.concat([df_bees_stats, tmp])\n",
        "\n",
        "df_bees_stats.columns = ['ETF', 'Close', '52WLow', '52WHigh']\n",
        "df_bees_stats['Premium%'] = (df_bees_stats['Close']-df_bees_stats['52WLow'])*100/(df_bees_stats['52WHigh']-df_bees_stats['52WLow']).astype(float)\n",
        "df_bees_stats['Discount%'] = (df_bees_stats['52WHigh']-df_bees_stats['Close'])*100/(df_bees_stats['52WHigh']-df_bees_stats['52WLow']).astype(float)\n",
        "df_bees_stats['Upside%52W'] = (df_bees_stats['52WHigh']-df_bees_stats['Close'])*100/(df_bees_stats['Close']).astype(float)\n",
        "\n",
        "cols = ['Premium%', 'Discount%']\n",
        "#df_bees_stats[cols] = df_bees_stats[cols].round(2)\n",
        "df_bees_stats = df_bees_stats.round(2)\n",
        "\n",
        "df_bees_stats.sort_values(by = 'Upside%52W', ascending=False)"
      ],
      "metadata": {
        "execution": {
          "iopub.status.busy": "2023-04-29T01:39:12.031798Z",
          "iopub.execute_input": "2023-04-29T01:39:12.032171Z",
          "iopub.status.idle": "2023-04-29T01:39:12.734158Z",
          "shell.execute_reply.started": "2023-04-29T01:39:12.032137Z",
          "shell.execute_reply": "2023-04-29T01:39:12.732909Z"
        },
        "trusted": true,
        "id": "-GuDtvc98Yw3",
        "outputId": "3077d2df-1892-4eeb-e1e8-61cfde27a830",
        "colab": {
          "base_uri": "https://localhost:8080/",
          "height": 331
        }
      },
      "execution_count": 6,
      "outputs": [
        {
          "output_type": "execute_result",
          "data": {
            "text/plain": [
              "          ETF  Close 52WLow 52WHigh   Premium%  Discount% Upside%52W\n",
              "0      ITBEES   28.9   27.1    39.9    14.0625    85.9375  38.062284\n",
              "0  JUNIORBEES  418.4  352.6   511.2   41.48802   58.51198  22.179732\n",
              "0  PHARMABEES   12.7   11.6    15.2  30.555556  69.444444  19.685039\n",
              "0  MID150BEES  121.8   87.3   133.2  75.163399  24.836601   9.359606\n",
              "0   INFRABEES  554.6  457.7   600.1  68.047753  31.952247   8.204111\n",
              "0    AUTOBEES  133.0  101.4   143.9  74.352941  25.647059   8.195489\n",
              "0  CONSUMBEES   82.1   68.7    88.0  69.430052  30.569948   7.186358\n",
              "0   NIFTYBEES  197.3  153.3   210.0  77.601411  22.398589   6.436898\n",
              "0    BANKBEES  436.6  326.3   446.2  91.993328   8.006672   2.198809"
            ],
            "text/html": [
              "\n",
              "  <div id=\"df-04c24fef-1406-46cf-b087-60f27e5c92d6\">\n",
              "    <div class=\"colab-df-container\">\n",
              "      <div>\n",
              "<style scoped>\n",
              "    .dataframe tbody tr th:only-of-type {\n",
              "        vertical-align: middle;\n",
              "    }\n",
              "\n",
              "    .dataframe tbody tr th {\n",
              "        vertical-align: top;\n",
              "    }\n",
              "\n",
              "    .dataframe thead th {\n",
              "        text-align: right;\n",
              "    }\n",
              "</style>\n",
              "<table border=\"1\" class=\"dataframe\">\n",
              "  <thead>\n",
              "    <tr style=\"text-align: right;\">\n",
              "      <th></th>\n",
              "      <th>ETF</th>\n",
              "      <th>Close</th>\n",
              "      <th>52WLow</th>\n",
              "      <th>52WHigh</th>\n",
              "      <th>Premium%</th>\n",
              "      <th>Discount%</th>\n",
              "      <th>Upside%52W</th>\n",
              "    </tr>\n",
              "  </thead>\n",
              "  <tbody>\n",
              "    <tr>\n",
              "      <th>0</th>\n",
              "      <td>ITBEES</td>\n",
              "      <td>28.9</td>\n",
              "      <td>27.1</td>\n",
              "      <td>39.9</td>\n",
              "      <td>14.0625</td>\n",
              "      <td>85.9375</td>\n",
              "      <td>38.062284</td>\n",
              "    </tr>\n",
              "    <tr>\n",
              "      <th>0</th>\n",
              "      <td>JUNIORBEES</td>\n",
              "      <td>418.4</td>\n",
              "      <td>352.6</td>\n",
              "      <td>511.2</td>\n",
              "      <td>41.48802</td>\n",
              "      <td>58.51198</td>\n",
              "      <td>22.179732</td>\n",
              "    </tr>\n",
              "    <tr>\n",
              "      <th>0</th>\n",
              "      <td>PHARMABEES</td>\n",
              "      <td>12.7</td>\n",
              "      <td>11.6</td>\n",
              "      <td>15.2</td>\n",
              "      <td>30.555556</td>\n",
              "      <td>69.444444</td>\n",
              "      <td>19.685039</td>\n",
              "    </tr>\n",
              "    <tr>\n",
              "      <th>0</th>\n",
              "      <td>MID150BEES</td>\n",
              "      <td>121.8</td>\n",
              "      <td>87.3</td>\n",
              "      <td>133.2</td>\n",
              "      <td>75.163399</td>\n",
              "      <td>24.836601</td>\n",
              "      <td>9.359606</td>\n",
              "    </tr>\n",
              "    <tr>\n",
              "      <th>0</th>\n",
              "      <td>INFRABEES</td>\n",
              "      <td>554.6</td>\n",
              "      <td>457.7</td>\n",
              "      <td>600.1</td>\n",
              "      <td>68.047753</td>\n",
              "      <td>31.952247</td>\n",
              "      <td>8.204111</td>\n",
              "    </tr>\n",
              "    <tr>\n",
              "      <th>0</th>\n",
              "      <td>AUTOBEES</td>\n",
              "      <td>133.0</td>\n",
              "      <td>101.4</td>\n",
              "      <td>143.9</td>\n",
              "      <td>74.352941</td>\n",
              "      <td>25.647059</td>\n",
              "      <td>8.195489</td>\n",
              "    </tr>\n",
              "    <tr>\n",
              "      <th>0</th>\n",
              "      <td>CONSUMBEES</td>\n",
              "      <td>82.1</td>\n",
              "      <td>68.7</td>\n",
              "      <td>88.0</td>\n",
              "      <td>69.430052</td>\n",
              "      <td>30.569948</td>\n",
              "      <td>7.186358</td>\n",
              "    </tr>\n",
              "    <tr>\n",
              "      <th>0</th>\n",
              "      <td>NIFTYBEES</td>\n",
              "      <td>197.3</td>\n",
              "      <td>153.3</td>\n",
              "      <td>210.0</td>\n",
              "      <td>77.601411</td>\n",
              "      <td>22.398589</td>\n",
              "      <td>6.436898</td>\n",
              "    </tr>\n",
              "    <tr>\n",
              "      <th>0</th>\n",
              "      <td>BANKBEES</td>\n",
              "      <td>436.6</td>\n",
              "      <td>326.3</td>\n",
              "      <td>446.2</td>\n",
              "      <td>91.993328</td>\n",
              "      <td>8.006672</td>\n",
              "      <td>2.198809</td>\n",
              "    </tr>\n",
              "  </tbody>\n",
              "</table>\n",
              "</div>\n",
              "      <button class=\"colab-df-convert\" onclick=\"convertToInteractive('df-04c24fef-1406-46cf-b087-60f27e5c92d6')\"\n",
              "              title=\"Convert this dataframe to an interactive table.\"\n",
              "              style=\"display:none;\">\n",
              "        \n",
              "  <svg xmlns=\"http://www.w3.org/2000/svg\" height=\"24px\"viewBox=\"0 0 24 24\"\n",
              "       width=\"24px\">\n",
              "    <path d=\"M0 0h24v24H0V0z\" fill=\"none\"/>\n",
              "    <path d=\"M18.56 5.44l.94 2.06.94-2.06 2.06-.94-2.06-.94-.94-2.06-.94 2.06-2.06.94zm-11 1L8.5 8.5l.94-2.06 2.06-.94-2.06-.94L8.5 2.5l-.94 2.06-2.06.94zm10 10l.94 2.06.94-2.06 2.06-.94-2.06-.94-.94-2.06-.94 2.06-2.06.94z\"/><path d=\"M17.41 7.96l-1.37-1.37c-.4-.4-.92-.59-1.43-.59-.52 0-1.04.2-1.43.59L10.3 9.45l-7.72 7.72c-.78.78-.78 2.05 0 2.83L4 21.41c.39.39.9.59 1.41.59.51 0 1.02-.2 1.41-.59l7.78-7.78 2.81-2.81c.8-.78.8-2.07 0-2.86zM5.41 20L4 18.59l7.72-7.72 1.47 1.35L5.41 20z\"/>\n",
              "  </svg>\n",
              "      </button>\n",
              "      \n",
              "  <style>\n",
              "    .colab-df-container {\n",
              "      display:flex;\n",
              "      flex-wrap:wrap;\n",
              "      gap: 12px;\n",
              "    }\n",
              "\n",
              "    .colab-df-convert {\n",
              "      background-color: #E8F0FE;\n",
              "      border: none;\n",
              "      border-radius: 50%;\n",
              "      cursor: pointer;\n",
              "      display: none;\n",
              "      fill: #1967D2;\n",
              "      height: 32px;\n",
              "      padding: 0 0 0 0;\n",
              "      width: 32px;\n",
              "    }\n",
              "\n",
              "    .colab-df-convert:hover {\n",
              "      background-color: #E2EBFA;\n",
              "      box-shadow: 0px 1px 2px rgba(60, 64, 67, 0.3), 0px 1px 3px 1px rgba(60, 64, 67, 0.15);\n",
              "      fill: #174EA6;\n",
              "    }\n",
              "\n",
              "    [theme=dark] .colab-df-convert {\n",
              "      background-color: #3B4455;\n",
              "      fill: #D2E3FC;\n",
              "    }\n",
              "\n",
              "    [theme=dark] .colab-df-convert:hover {\n",
              "      background-color: #434B5C;\n",
              "      box-shadow: 0px 1px 3px 1px rgba(0, 0, 0, 0.15);\n",
              "      filter: drop-shadow(0px 1px 2px rgba(0, 0, 0, 0.3));\n",
              "      fill: #FFFFFF;\n",
              "    }\n",
              "  </style>\n",
              "\n",
              "      <script>\n",
              "        const buttonEl =\n",
              "          document.querySelector('#df-04c24fef-1406-46cf-b087-60f27e5c92d6 button.colab-df-convert');\n",
              "        buttonEl.style.display =\n",
              "          google.colab.kernel.accessAllowed ? 'block' : 'none';\n",
              "\n",
              "        async function convertToInteractive(key) {\n",
              "          const element = document.querySelector('#df-04c24fef-1406-46cf-b087-60f27e5c92d6');\n",
              "          const dataTable =\n",
              "            await google.colab.kernel.invokeFunction('convertToInteractive',\n",
              "                                                     [key], {});\n",
              "          if (!dataTable) return;\n",
              "\n",
              "          const docLinkHtml = 'Like what you see? Visit the ' +\n",
              "            '<a target=\"_blank\" href=https://colab.research.google.com/notebooks/data_table.ipynb>data table notebook</a>'\n",
              "            + ' to learn more about interactive tables.';\n",
              "          element.innerHTML = '';\n",
              "          dataTable['output_type'] = 'display_data';\n",
              "          await google.colab.output.renderOutput(dataTable, element);\n",
              "          const docLink = document.createElement('div');\n",
              "          docLink.innerHTML = docLinkHtml;\n",
              "          element.appendChild(docLink);\n",
              "        }\n",
              "      </script>\n",
              "    </div>\n",
              "  </div>\n",
              "  "
            ]
          },
          "metadata": {},
          "execution_count": 6
        }
      ]
    },
    {
      "cell_type": "code",
      "source": [
        "df = yfin.Ticker('HDFCBANK.NS').history(period='18mo', interval = \"1wk\")[map(str.title, ['open', 'close', 'low', 'high', 'volume'])]\n",
        "\n",
        "print('average:',round(df['Close'].mean()))\n",
        "print('current', round(df['Close'][-1]))"
      ],
      "metadata": {
        "execution": {
          "iopub.status.busy": "2023-04-29T01:47:27.771582Z",
          "iopub.execute_input": "2023-04-29T01:47:27.772017Z",
          "iopub.status.idle": "2023-04-29T01:47:27.889849Z",
          "shell.execute_reply.started": "2023-04-29T01:47:27.771975Z",
          "shell.execute_reply": "2023-04-29T01:47:27.888547Z"
        },
        "trusted": true,
        "id": "A1sGkEO-8Yw3",
        "outputId": "4c74793e-1995-46d3-d4a3-be12c896576f",
        "colab": {
          "base_uri": "https://localhost:8080/"
        }
      },
      "execution_count": 7,
      "outputs": [
        {
          "output_type": "stream",
          "name": "stdout",
          "text": [
            "average: 1499\n",
            "current 1687\n"
          ]
        }
      ]
    }
  ]
}