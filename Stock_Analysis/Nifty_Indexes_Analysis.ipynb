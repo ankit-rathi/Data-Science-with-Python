{
  "metadata": {
    "kernelspec": {
      "language": "python",
      "display_name": "Python 3",
      "name": "python3"
    },
    "language_info": {
      "name": "python",
      "version": "3.7.12",
      "mimetype": "text/x-python",
      "codemirror_mode": {
        "name": "ipython",
        "version": 3
      },
      "pygments_lexer": "ipython3",
      "nbconvert_exporter": "python",
      "file_extension": ".py"
    },
    "colab": {
      "provenance": [],
      "include_colab_link": true
    }
  },
  "nbformat_minor": 0,
  "nbformat": 4,
  "cells": [
    {
      "cell_type": "markdown",
      "metadata": {
        "id": "view-in-github",
        "colab_type": "text"
      },
      "source": [
        "<a href=\"https://colab.research.google.com/github/ankit-rathi/Data-Science-with-Python/blob/master/Stock_Analysis/Nifty_Indexes_Analysis.ipynb\" target=\"_parent\"><img src=\"https://colab.research.google.com/assets/colab-badge.svg\" alt=\"Open In Colab\"/></a>"
      ]
    },
    {
      "cell_type": "code",
      "source": [
        "# install libraries\n",
        "!pip install yfinance\n",
        "!pip install pandas-ta\n",
        "#!pip install talib-binary"
      ],
      "metadata": {
        "execution": {
          "iopub.status.busy": "2023-04-29T01:38:48.610231Z",
          "iopub.execute_input": "2023-04-29T01:38:48.610554Z",
          "iopub.status.idle": "2023-04-29T01:39:11.855015Z",
          "shell.execute_reply.started": "2023-04-29T01:38:48.610521Z",
          "shell.execute_reply": "2023-04-29T01:39:11.853344Z"
        },
        "trusted": true,
        "id": "0BX9lLCL8Yw0",
        "outputId": "d8537438-2ec2-4163-f2b1-10f258b0bc59"
      },
      "execution_count": null,
      "outputs": [
        {
          "name": "stdout",
          "text": "Requirement already satisfied: yfinance in /opt/conda/lib/python3.7/site-packages (0.2.18)\nRequirement already satisfied: requests>=2.26 in /opt/conda/lib/python3.7/site-packages (from yfinance) (2.28.2)\nRequirement already satisfied: pandas>=1.3.0 in /opt/conda/lib/python3.7/site-packages (from yfinance) (1.3.5)\nRequirement already satisfied: appdirs>=1.4.4 in /opt/conda/lib/python3.7/site-packages (from yfinance) (1.4.4)\nRequirement already satisfied: pytz>=2022.5 in /opt/conda/lib/python3.7/site-packages (from yfinance) (2022.7.1)\nRequirement already satisfied: html5lib>=1.1 in /opt/conda/lib/python3.7/site-packages (from yfinance) (1.1)\nRequirement already satisfied: numpy>=1.16.5 in /opt/conda/lib/python3.7/site-packages (from yfinance) (1.21.6)\nRequirement already satisfied: frozendict>=2.3.4 in /opt/conda/lib/python3.7/site-packages (from yfinance) (2.3.5)\nRequirement already satisfied: beautifulsoup4>=4.11.1 in /opt/conda/lib/python3.7/site-packages (from yfinance) (4.11.1)\nRequirement already satisfied: lxml>=4.9.1 in /opt/conda/lib/python3.7/site-packages (from yfinance) (4.9.2)\nRequirement already satisfied: cryptography>=3.3.2 in /opt/conda/lib/python3.7/site-packages (from yfinance) (38.0.2)\nRequirement already satisfied: multitasking>=0.0.7 in /opt/conda/lib/python3.7/site-packages (from yfinance) (0.0.11)\nRequirement already satisfied: soupsieve>1.2 in /opt/conda/lib/python3.7/site-packages (from beautifulsoup4>=4.11.1->yfinance) (2.3.2.post1)\nRequirement already satisfied: cffi>=1.12 in /opt/conda/lib/python3.7/site-packages (from cryptography>=3.3.2->yfinance) (1.15.1)\nRequirement already satisfied: six>=1.9 in /opt/conda/lib/python3.7/site-packages (from html5lib>=1.1->yfinance) (1.16.0)\nRequirement already satisfied: webencodings in /opt/conda/lib/python3.7/site-packages (from html5lib>=1.1->yfinance) (0.5.1)\nRequirement already satisfied: python-dateutil>=2.7.3 in /opt/conda/lib/python3.7/site-packages (from pandas>=1.3.0->yfinance) (2.8.2)\nRequirement already satisfied: certifi>=2017.4.17 in /opt/conda/lib/python3.7/site-packages (from requests>=2.26->yfinance) (2022.12.7)\nRequirement already satisfied: charset-normalizer<4,>=2 in /opt/conda/lib/python3.7/site-packages (from requests>=2.26->yfinance) (2.1.1)\nRequirement already satisfied: urllib3<1.27,>=1.21.1 in /opt/conda/lib/python3.7/site-packages (from requests>=2.26->yfinance) (1.26.14)\nRequirement already satisfied: idna<4,>=2.5 in /opt/conda/lib/python3.7/site-packages (from requests>=2.26->yfinance) (3.4)\nRequirement already satisfied: pycparser in /opt/conda/lib/python3.7/site-packages (from cffi>=1.12->cryptography>=3.3.2->yfinance) (2.21)\n\u001b[33mWARNING: Running pip as the 'root' user can result in broken permissions and conflicting behaviour with the system package manager. It is recommended to use a virtual environment instead: https://pip.pypa.io/warnings/venv\u001b[0m\u001b[33m\n\u001b[0mRequirement already satisfied: pandas-ta in /opt/conda/lib/python3.7/site-packages (0.3.14b0)\nRequirement already satisfied: pandas in /opt/conda/lib/python3.7/site-packages (from pandas-ta) (1.3.5)\nRequirement already satisfied: pytz>=2017.3 in /opt/conda/lib/python3.7/site-packages (from pandas->pandas-ta) (2022.7.1)\nRequirement already satisfied: python-dateutil>=2.7.3 in /opt/conda/lib/python3.7/site-packages (from pandas->pandas-ta) (2.8.2)\nRequirement already satisfied: numpy>=1.17.3 in /opt/conda/lib/python3.7/site-packages (from pandas->pandas-ta) (1.21.6)\nRequirement already satisfied: six>=1.5 in /opt/conda/lib/python3.7/site-packages (from python-dateutil>=2.7.3->pandas->pandas-ta) (1.16.0)\n\u001b[33mWARNING: Running pip as the 'root' user can result in broken permissions and conflicting behaviour with the system package manager. It is recommended to use a virtual environment instead: https://pip.pypa.io/warnings/venv\u001b[0m\u001b[33m\n\u001b[0m",
          "output_type": "stream"
        }
      ]
    },
    {
      "cell_type": "code",
      "source": [
        "import yfinance as yfin\n",
        "import pandas as pd\n",
        "\n",
        "df = yfin.Ticker('^NSEI').history(period='18mo', interval = \"1mo\")[map(str.title, ['open', 'close', 'low', 'high', 'volume'])]"
      ],
      "metadata": {
        "execution": {
          "iopub.status.busy": "2023-04-29T01:39:11.859781Z",
          "iopub.execute_input": "2023-04-29T01:39:11.860214Z",
          "iopub.status.idle": "2023-04-29T01:39:11.946598Z",
          "shell.execute_reply.started": "2023-04-29T01:39:11.860175Z",
          "shell.execute_reply": "2023-04-29T01:39:11.945305Z"
        },
        "trusted": true,
        "id": "HqiymetO8Yw2"
      },
      "execution_count": null,
      "outputs": []
    },
    {
      "cell_type": "code",
      "source": [
        "(df['Close'].mean()-16945)*100/df['Close'].mean()"
      ],
      "metadata": {
        "execution": {
          "iopub.status.busy": "2023-04-29T01:39:11.948672Z",
          "iopub.execute_input": "2023-04-29T01:39:11.949484Z",
          "iopub.status.idle": "2023-04-29T01:39:11.958710Z",
          "shell.execute_reply.started": "2023-04-29T01:39:11.949429Z",
          "shell.execute_reply": "2023-04-29T01:39:11.957882Z"
        },
        "trusted": true,
        "id": "v3oAljlI8Yw2",
        "outputId": "24637d15-1781-44bb-fe5d-13ad6c4a9eca"
      },
      "execution_count": null,
      "outputs": [
        {
          "execution_count": 10,
          "output_type": "execute_result",
          "data": {
            "text/plain": "2.453517792414089"
          },
          "metadata": {}
        }
      ]
    },
    {
      "cell_type": "code",
      "source": [
        "df['Close'].mean()"
      ],
      "metadata": {
        "execution": {
          "iopub.status.busy": "2023-04-29T01:39:11.960008Z",
          "iopub.execute_input": "2023-04-29T01:39:11.960778Z",
          "iopub.status.idle": "2023-04-29T01:39:11.972692Z",
          "shell.execute_reply.started": "2023-04-29T01:39:11.960743Z",
          "shell.execute_reply": "2023-04-29T01:39:11.971430Z"
        },
        "trusted": true,
        "id": "pDgGk0BR8Yw2",
        "outputId": "fa2aaa12-1cbc-498c-8828-4571cb6ec40d"
      },
      "execution_count": null,
      "outputs": [
        {
          "execution_count": 11,
          "output_type": "execute_result",
          "data": {
            "text/plain": "17371.205620659723"
          },
          "metadata": {}
        }
      ]
    },
    {
      "cell_type": "code",
      "source": [
        "df_bees = pd.read_csv('https://raw.githubusercontent.com/ankit-rathi/Data-Science-with-Python/master/Stock_Analysis/data/BEES_Scrips.csv')\n",
        "\n",
        "bees_ids = df_bees['Symbol'].unique()\n",
        "\n",
        "bees_ids.sort()\n",
        "bees_ids"
      ],
      "metadata": {
        "execution": {
          "iopub.status.busy": "2023-04-29T01:39:11.974139Z",
          "iopub.execute_input": "2023-04-29T01:39:11.974449Z",
          "iopub.status.idle": "2023-04-29T01:39:12.028355Z",
          "shell.execute_reply.started": "2023-04-29T01:39:11.974419Z",
          "shell.execute_reply": "2023-04-29T01:39:12.026890Z"
        },
        "trusted": true,
        "id": "MQGG4BE68Yw2",
        "outputId": "9797ca48-8d16-4a7e-a7a6-bcfcdedb4b9a"
      },
      "execution_count": null,
      "outputs": [
        {
          "execution_count": 12,
          "output_type": "execute_result",
          "data": {
            "text/plain": "array(['AUTOBEES', 'BANKBEES', 'CONSUMBEES', 'INFRABEES', 'ITBEES',\n       'JUNIORBEES', 'MID150BEES', 'NIFTYBEES', 'PHARMABEES'],\n      dtype=object)"
          },
          "metadata": {}
        }
      ]
    },
    {
      "cell_type": "code",
      "source": [
        "df_bees_stats = pd.DataFrame()\n",
        "\n",
        "for bees_id in bees_ids:\n",
        "\n",
        "  close_price = round(yfin.Ticker(bees_id+'.NS').history(period='1y')[map(str.title, ['open', 'close', 'low', 'high', 'volume'])].tail(1)['Close'].values[0],1)\n",
        "  low_52w = df_bees[(df_bees['Symbol']) == bees_id.upper()]['52WLow'].values[0]\n",
        "  high_52w = df_bees[(df_bees['Symbol']) == bees_id.upper()]['52WHigh'].values[0]\n",
        "\n",
        "  tmp = pd.DataFrame([bees_id, close_price, low_52w, high_52w]).T\n",
        "  df_bees_stats = df_bees_stats.append(tmp)\n",
        "\n",
        "df_bees_stats.columns = ['ETF', 'Close', '52WLow', '52WHigh']\n",
        "df_bees_stats['Premium%'] = (df_bees_stats['Close']-df_bees_stats['52WLow'])*100/(df_bees_stats['52WHigh']-df_bees_stats['52WLow']).astype(float)\n",
        "df_bees_stats['Discount%'] = (df_bees_stats['52WHigh']-df_bees_stats['Close'])*100/(df_bees_stats['52WHigh']-df_bees_stats['52WLow']).astype(float)\n",
        "df_bees_stats['Upside%52W'] = (df_bees_stats['52WHigh']-df_bees_stats['Close'])*100/(df_bees_stats['Close']).astype(float)\n",
        "\n",
        "cols = ['Premium%', 'Discount%']\n",
        "#df_bees_stats[cols] = df_bees_stats[cols].round(2)\n",
        "df_bees_stats = df_bees_stats.round(2)\n",
        "\n",
        "df_bees_stats.sort_values(by = 'Upside%52W', ascending=False)"
      ],
      "metadata": {
        "execution": {
          "iopub.status.busy": "2023-04-29T01:39:12.031798Z",
          "iopub.execute_input": "2023-04-29T01:39:12.032171Z",
          "iopub.status.idle": "2023-04-29T01:39:12.734158Z",
          "shell.execute_reply.started": "2023-04-29T01:39:12.032137Z",
          "shell.execute_reply": "2023-04-29T01:39:12.732909Z"
        },
        "trusted": true,
        "id": "-GuDtvc98Yw3",
        "outputId": "a24b98de-a90d-43bf-efc0-80b62b649527"
      },
      "execution_count": null,
      "outputs": [
        {
          "execution_count": 13,
          "output_type": "execute_result",
          "data": {
            "text/plain": "          ETF  Close 52WLow 52WHigh   Premium%  Discount% Upside%52W\n0      ITBEES   28.9   27.1    39.9    14.0625    85.9375  38.062284\n0  JUNIORBEES  418.4  352.6   511.2   41.48802   58.51198  22.179732\n0  PHARMABEES   12.7   11.6    15.2  30.555556  69.444444  19.685039\n0  MID150BEES  121.8   87.3   133.2  75.163399  24.836601   9.359606\n0   INFRABEES  554.6  457.7   600.1  68.047753  31.952247   8.204111\n0    AUTOBEES  133.0  101.4   143.9  74.352941  25.647059   8.195489\n0  CONSUMBEES   82.1   68.7    88.0  69.430052  30.569948   7.186358\n0   NIFTYBEES  197.3  153.3   210.0  77.601411  22.398589   6.436898\n0    BANKBEES  436.6  326.3   446.2  91.993328   8.006672   2.198809",
            "text/html": "<div>\n<style scoped>\n    .dataframe tbody tr th:only-of-type {\n        vertical-align: middle;\n    }\n\n    .dataframe tbody tr th {\n        vertical-align: top;\n    }\n\n    .dataframe thead th {\n        text-align: right;\n    }\n</style>\n<table border=\"1\" class=\"dataframe\">\n  <thead>\n    <tr style=\"text-align: right;\">\n      <th></th>\n      <th>ETF</th>\n      <th>Close</th>\n      <th>52WLow</th>\n      <th>52WHigh</th>\n      <th>Premium%</th>\n      <th>Discount%</th>\n      <th>Upside%52W</th>\n    </tr>\n  </thead>\n  <tbody>\n    <tr>\n      <th>0</th>\n      <td>ITBEES</td>\n      <td>28.9</td>\n      <td>27.1</td>\n      <td>39.9</td>\n      <td>14.0625</td>\n      <td>85.9375</td>\n      <td>38.062284</td>\n    </tr>\n    <tr>\n      <th>0</th>\n      <td>JUNIORBEES</td>\n      <td>418.4</td>\n      <td>352.6</td>\n      <td>511.2</td>\n      <td>41.48802</td>\n      <td>58.51198</td>\n      <td>22.179732</td>\n    </tr>\n    <tr>\n      <th>0</th>\n      <td>PHARMABEES</td>\n      <td>12.7</td>\n      <td>11.6</td>\n      <td>15.2</td>\n      <td>30.555556</td>\n      <td>69.444444</td>\n      <td>19.685039</td>\n    </tr>\n    <tr>\n      <th>0</th>\n      <td>MID150BEES</td>\n      <td>121.8</td>\n      <td>87.3</td>\n      <td>133.2</td>\n      <td>75.163399</td>\n      <td>24.836601</td>\n      <td>9.359606</td>\n    </tr>\n    <tr>\n      <th>0</th>\n      <td>INFRABEES</td>\n      <td>554.6</td>\n      <td>457.7</td>\n      <td>600.1</td>\n      <td>68.047753</td>\n      <td>31.952247</td>\n      <td>8.204111</td>\n    </tr>\n    <tr>\n      <th>0</th>\n      <td>AUTOBEES</td>\n      <td>133.0</td>\n      <td>101.4</td>\n      <td>143.9</td>\n      <td>74.352941</td>\n      <td>25.647059</td>\n      <td>8.195489</td>\n    </tr>\n    <tr>\n      <th>0</th>\n      <td>CONSUMBEES</td>\n      <td>82.1</td>\n      <td>68.7</td>\n      <td>88.0</td>\n      <td>69.430052</td>\n      <td>30.569948</td>\n      <td>7.186358</td>\n    </tr>\n    <tr>\n      <th>0</th>\n      <td>NIFTYBEES</td>\n      <td>197.3</td>\n      <td>153.3</td>\n      <td>210.0</td>\n      <td>77.601411</td>\n      <td>22.398589</td>\n      <td>6.436898</td>\n    </tr>\n    <tr>\n      <th>0</th>\n      <td>BANKBEES</td>\n      <td>436.6</td>\n      <td>326.3</td>\n      <td>446.2</td>\n      <td>91.993328</td>\n      <td>8.006672</td>\n      <td>2.198809</td>\n    </tr>\n  </tbody>\n</table>\n</div>"
          },
          "metadata": {}
        }
      ]
    },
    {
      "cell_type": "code",
      "source": [
        "df = yfin.Ticker('HDFCBANK.NS').history(period='18mo', interval = \"1wk\")[map(str.title, ['open', 'close', 'low', 'high', 'volume'])]\n",
        "\n",
        "print('average:',round(df['Close'].mean()))\n",
        "print('current', round(df['Close'][-1]))"
      ],
      "metadata": {
        "execution": {
          "iopub.status.busy": "2023-04-29T01:47:27.771582Z",
          "iopub.execute_input": "2023-04-29T01:47:27.772017Z",
          "iopub.status.idle": "2023-04-29T01:47:27.889849Z",
          "shell.execute_reply.started": "2023-04-29T01:47:27.771975Z",
          "shell.execute_reply": "2023-04-29T01:47:27.888547Z"
        },
        "trusted": true,
        "id": "A1sGkEO-8Yw3",
        "outputId": "55e6330d-9557-4e8b-ee9a-8681c351a684"
      },
      "execution_count": null,
      "outputs": [
        {
          "name": "stdout",
          "text": "average: 1499\ncurrent 1688\n",
          "output_type": "stream"
        }
      ]
    }
  ]
}